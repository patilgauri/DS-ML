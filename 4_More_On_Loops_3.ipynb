{
  "nbformat": 4,
  "nbformat_minor": 0,
  "metadata": {
    "colab": {
      "provenance": [],
      "authorship_tag": "ABX9TyMdYM11ypDLIINLg/vzSpTv",
      "include_colab_link": true
    },
    "kernelspec": {
      "name": "python3",
      "display_name": "Python 3"
    },
    "language_info": {
      "name": "python"
    }
  },
  "cells": [
    {
      "cell_type": "markdown",
      "metadata": {
        "id": "view-in-github",
        "colab_type": "text"
      },
      "source": [
        "<a href=\"https://colab.research.google.com/github/patilgauri/DS-ML/blob/main/4_More_On_Loops_3.ipynb\" target=\"_parent\"><img src=\"https://colab.research.google.com/assets/colab-badge.svg\" alt=\"Open In Colab\"/></a>"
      ]
    },
    {
      "cell_type": "markdown",
      "source": [
        "**Decimal to Binary Conversion**"
      ],
      "metadata": {
        "id": "aXXH5Y1frNkY"
      }
    },
    {
      "cell_type": "code",
      "source": [
        "n = int(input(\"Enter a decimal number: \"))\n",
        "binary = 0\n",
        "place = 1  # This represents the position (1s, 10s, 100s...)\n",
        "\n",
        "while n > 0:\n",
        "    remainder = n % 2\n",
        "    binary = binary + remainder * place\n",
        "    n = n // 2\n",
        "    place = place * 10\n",
        "\n",
        "print(binary)"
      ],
      "metadata": {
        "id": "I6jAvGcJraBh",
        "colab": {
          "base_uri": "https://localhost:8080/"
        },
        "outputId": "765133cb-d84d-4b06-c648-9ae854016d60"
      },
      "execution_count": 3,
      "outputs": [
        {
          "output_type": "stream",
          "name": "stdout",
          "text": [
            "Enter a decimal number: 13\n",
            "1101\n"
          ]
        }
      ]
    },
    {
      "cell_type": "markdown",
      "source": [
        "**Binery to Decimal Conversion**"
      ],
      "metadata": {
        "id": "GZ84BXUIrpVp"
      }
    },
    {
      "cell_type": "code",
      "source": [
        "n = int(input())\n",
        "decimal=0\n",
        "power=0\n",
        "remainder=0\n",
        "while(n>0):\n",
        "  remainder=n%10\n",
        "  decimal= decimal + remainder*pow(2,power)\n",
        "  power=power+1\n",
        "  n=n//10\n",
        "print(decimal)"
      ],
      "metadata": {
        "colab": {
          "base_uri": "https://localhost:8080/"
        },
        "id": "O73Hpoousjgi",
        "outputId": "1672e654-59c4-40b8-a7f2-a32fac35a3a4"
      },
      "execution_count": 9,
      "outputs": [
        {
          "output_type": "stream",
          "name": "stdout",
          "text": [
            "111\n",
            "7\n"
          ]
        }
      ]
    },
    {
      "cell_type": "markdown",
      "source": [
        "**Sum of even fibonnaci numbers smaller than or equal to N**"
      ],
      "metadata": {
        "id": "953Z-ML18uys"
      }
    },
    {
      "cell_type": "code",
      "source": [
        "n = int(input())\n",
        "a = 0\n",
        "b = 1\n",
        "sum = 0\n",
        "\n",
        "while b <= n:\n",
        "    if b % 2 == 0:\n",
        "        sum= sum+b\n",
        "    c = a + b\n",
        "    a = b\n",
        "    b = c\n",
        "\n",
        "print(sum)"
      ],
      "metadata": {
        "colab": {
          "base_uri": "https://localhost:8080/"
        },
        "id": "aVBnt6h47_EL",
        "outputId": "d10e0e91-1e38-4884-e75c-f14d2751ca97"
      },
      "execution_count": 17,
      "outputs": [
        {
          "output_type": "stream",
          "name": "stdout",
          "text": [
            "8\n",
            "10\n"
          ]
        }
      ]
    },
    {
      "cell_type": "markdown",
      "source": [
        "**Trailing Zeroes in N!**"
      ],
      "metadata": {
        "id": "2v88ox_k8itW"
      }
    },
    {
      "cell_type": "code",
      "source": [],
      "metadata": {
        "id": "9kXP_BPR9Bph"
      },
      "execution_count": null,
      "outputs": []
    }
  ]
}