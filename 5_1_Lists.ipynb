{
  "nbformat": 4,
  "nbformat_minor": 0,
  "metadata": {
    "colab": {
      "provenance": [],
      "authorship_tag": "ABX9TyMzab6pWwV/wzp6ftDLvd4s",
      "include_colab_link": true
    },
    "kernelspec": {
      "name": "python3",
      "display_name": "Python 3"
    },
    "language_info": {
      "name": "python"
    }
  },
  "cells": [
    {
      "cell_type": "markdown",
      "metadata": {
        "id": "view-in-github",
        "colab_type": "text"
      },
      "source": [
        "<a href=\"https://colab.research.google.com/github/patilgauri/DS-ML/blob/main/5_1_Lists.ipynb\" target=\"_parent\"><img src=\"https://colab.research.google.com/assets/colab-badge.svg\" alt=\"Open In Colab\"/></a>"
      ]
    },
    {
      "cell_type": "markdown",
      "source": [
        "**Lists**"
      ],
      "metadata": {
        "id": "R5DCA4yVWXmL"
      }
    },
    {
      "cell_type": "markdown",
      "source": [
        "Lists are collection of elements"
      ],
      "metadata": {
        "id": "oFXeaE0zZdp_"
      }
    },
    {
      "cell_type": "markdown",
      "source": [
        "They are exactly like arrays. They are collection of data"
      ],
      "metadata": {
        "id": "_MD-gKIxZiHA"
      }
    },
    {
      "cell_type": "code",
      "source": [
        "a=[1,2,3]"
      ],
      "metadata": {
        "id": "uyE8eQATZoIa"
      },
      "execution_count": null,
      "outputs": []
    },
    {
      "cell_type": "code",
      "source": [
        "type(a)"
      ],
      "metadata": {
        "colab": {
          "base_uri": "https://localhost:8080/"
        },
        "id": "X0nDIbSDZr98",
        "outputId": "1e116350-52e2-4f03-b427-ff5cfdedf9aa"
      },
      "execution_count": null,
      "outputs": [
        {
          "output_type": "execute_result",
          "data": {
            "text/plain": [
              "list"
            ]
          },
          "metadata": {},
          "execution_count": 3
        }
      ]
    },
    {
      "cell_type": "code",
      "source": [
        "a= list([2,3,4]) #this syntax is not used much\n",
        "a"
      ],
      "metadata": {
        "colab": {
          "base_uri": "https://localhost:8080/"
        },
        "id": "I8tIGvQxZs25",
        "outputId": "e434c800-a3aa-459b-9075-8cea165e76b0"
      },
      "execution_count": null,
      "outputs": [
        {
          "output_type": "execute_result",
          "data": {
            "text/plain": [
              "[2, 3, 4]"
            ]
          },
          "metadata": {},
          "execution_count": 5
        }
      ]
    },
    {
      "cell_type": "code",
      "source": [
        "a= list() #a will be an empty list\n",
        "a"
      ],
      "metadata": {
        "colab": {
          "base_uri": "https://localhost:8080/"
        },
        "id": "zYWtvk08Z3vr",
        "outputId": "5899eb1e-4ee5-4e0e-fe46-07d891294377"
      },
      "execution_count": null,
      "outputs": [
        {
          "output_type": "execute_result",
          "data": {
            "text/plain": [
              "[]"
            ]
          },
          "metadata": {},
          "execution_count": 7
        }
      ]
    },
    {
      "cell_type": "markdown",
      "source": [
        "**Unlike strings, lists are Mutable**"
      ],
      "metadata": {
        "id": "EPRAy5HDZ_Pi"
      }
    },
    {
      "cell_type": "markdown",
      "source": [
        "It means you can change them"
      ],
      "metadata": {
        "id": "Ab8lIHetaHww"
      }
    },
    {
      "cell_type": "code",
      "source": [
        "a=[1,2,3,4]\n",
        "a[3]=40\n",
        "a"
      ],
      "metadata": {
        "colab": {
          "base_uri": "https://localhost:8080/"
        },
        "id": "hnetp8ZNaLMN",
        "outputId": "4d67ed50-fdd4-4f2e-dca3-c709387487e8"
      },
      "execution_count": null,
      "outputs": [
        {
          "output_type": "execute_result",
          "data": {
            "text/plain": [
              "[1, 2, 3, 40]"
            ]
          },
          "metadata": {},
          "execution_count": 11
        }
      ]
    },
    {
      "cell_type": "markdown",
      "source": [
        "In python, list can store any type of data"
      ],
      "metadata": {
        "id": "8qQMD1aYaoKK"
      }
    },
    {
      "cell_type": "code",
      "source": [
        "a=[1,2,'abc',True] #list can have heterogenous data\n",
        "a"
      ],
      "metadata": {
        "colab": {
          "base_uri": "https://localhost:8080/"
        },
        "id": "Vh4shZ2PaTW5",
        "outputId": "72893e95-7281-4900-dcdb-94a487d8902b"
      },
      "execution_count": null,
      "outputs": [
        {
          "output_type": "execute_result",
          "data": {
            "text/plain": [
              "[1, 2, 'abc', True]"
            ]
          },
          "metadata": {},
          "execution_count": 14
        }
      ]
    },
    {
      "cell_type": "markdown",
      "source": [
        "List can have another list as it's element"
      ],
      "metadata": {
        "id": "ggNxMmb0aujq"
      }
    },
    {
      "cell_type": "code",
      "source": [
        "a=[[1,2,3],4,5,'abc']\n",
        "a"
      ],
      "metadata": {
        "colab": {
          "base_uri": "https://localhost:8080/"
        },
        "id": "lZS1qjqua2k7",
        "outputId": "e951d9d1-9484-49e0-ca37-6162503a0915"
      },
      "execution_count": null,
      "outputs": [
        {
          "output_type": "execute_result",
          "data": {
            "text/plain": [
              "[[1, 2, 3], 4, 5, 'abc']"
            ]
          },
          "metadata": {},
          "execution_count": 16
        }
      ]
    },
    {
      "cell_type": "markdown",
      "source": [
        "Lists are dynamic in size, they can increase the size if required"
      ],
      "metadata": {
        "id": "rpfH3BrOa531"
      }
    },
    {
      "cell_type": "markdown",
      "source": [
        "*Another way of creating a list:*"
      ],
      "metadata": {
        "id": "q4WFR4yIkb7m"
      }
    },
    {
      "cell_type": "code",
      "source": [
        "b= [ 0 for i in range(10)]\n",
        "#this means for every i in range 10 add a zero to the list\n",
        "b"
      ],
      "metadata": {
        "colab": {
          "base_uri": "https://localhost:8080/"
        },
        "id": "Fh5oIU4yk856",
        "outputId": "d204bb96-e581-4e29-d87c-5ede5792bfbd"
      },
      "execution_count": null,
      "outputs": [
        {
          "output_type": "execute_result",
          "data": {
            "text/plain": [
              "[0, 0, 0, 0, 0, 0, 0, 0, 0, 0]"
            ]
          },
          "metadata": {},
          "execution_count": 17
        }
      ]
    },
    {
      "cell_type": "code",
      "source": [
        "b= [i for i in range(10)]\n",
        "b"
      ],
      "metadata": {
        "colab": {
          "base_uri": "https://localhost:8080/"
        },
        "id": "TJisf7qQlF_L",
        "outputId": "a6565c0b-832c-4762-bd06-21e16eedcc5e"
      },
      "execution_count": null,
      "outputs": [
        {
          "output_type": "execute_result",
          "data": {
            "text/plain": [
              "[0, 1, 2, 3, 4, 5, 6, 7, 8, 9]"
            ]
          },
          "metadata": {},
          "execution_count": 19
        }
      ]
    },
    {
      "cell_type": "code",
      "source": [
        "b=[i*i for i in range(10)]\n",
        "b"
      ],
      "metadata": {
        "colab": {
          "base_uri": "https://localhost:8080/"
        },
        "id": "OgwLf3sUlTsT",
        "outputId": "27cda038-3425-4dd9-9fda-0784076e883e"
      },
      "execution_count": null,
      "outputs": [
        {
          "output_type": "execute_result",
          "data": {
            "text/plain": [
              "[0, 1, 4, 9, 16, 25, 36, 49, 64, 81]"
            ]
          },
          "metadata": {},
          "execution_count": 23
        }
      ]
    },
    {
      "cell_type": "code",
      "source": [
        "c=list(\"hello\")\n",
        "c"
      ],
      "metadata": {
        "colab": {
          "base_uri": "https://localhost:8080/"
        },
        "id": "Bn5AjXQLlbuE",
        "outputId": "782f8b0b-5286-407d-881f-09d9de529d8f"
      },
      "execution_count": null,
      "outputs": [
        {
          "output_type": "execute_result",
          "data": {
            "text/plain": [
              "['h', 'e', 'l', 'l', 'o']"
            ]
          },
          "metadata": {},
          "execution_count": 25
        }
      ]
    },
    {
      "cell_type": "code",
      "source": [
        "#The list() function treats the string \"hello\" as a sequence of characters and creates a list where each character is an element."
      ],
      "metadata": {
        "id": "sssW_IA0lv_W"
      },
      "execution_count": null,
      "outputs": []
    },
    {
      "cell_type": "markdown",
      "source": [
        "**List Inbuilt Functions**"
      ],
      "metadata": {
        "id": "2WpbgIeSmPBj"
      }
    },
    {
      "cell_type": "markdown",
      "source": [
        "add data, remove data, search data"
      ],
      "metadata": {
        "id": "2IGZx2ZkmWZn"
      }
    },
    {
      "cell_type": "markdown",
      "source": [
        "**len() function**"
      ],
      "metadata": {
        "id": "AoC9vtAKmzXX"
      }
    },
    {
      "cell_type": "code",
      "source": [
        "a=[1,2,3,4]\n",
        "len(a)"
      ],
      "metadata": {
        "colab": {
          "base_uri": "https://localhost:8080/"
        },
        "id": "6HmtO542m4pY",
        "outputId": "bfb0059f-4e70-4787-af48-e7427f90e82a"
      },
      "execution_count": null,
      "outputs": [
        {
          "output_type": "execute_result",
          "data": {
            "text/plain": [
              "4"
            ]
          },
          "metadata": {},
          "execution_count": 29
        }
      ]
    },
    {
      "cell_type": "code",
      "source": [
        "#Python does not support concatenation of a list and an integer"
      ],
      "metadata": {
        "id": "-dX92bWgnSDZ"
      },
      "execution_count": null,
      "outputs": []
    },
    {
      "cell_type": "code",
      "source": [
        "a + 3"
      ],
      "metadata": {
        "colab": {
          "base_uri": "https://localhost:8080/",
          "height": 141
        },
        "id": "b1NGBUsGm6qr",
        "outputId": "2bb4f363-0515-4409-c658-2ca02ed46ab8"
      },
      "execution_count": null,
      "outputs": [
        {
          "output_type": "error",
          "ename": "TypeError",
          "evalue": "can only concatenate list (not \"int\") to list",
          "traceback": [
            "\u001b[0;31m---------------------------------------------------------------------------\u001b[0m",
            "\u001b[0;31mTypeError\u001b[0m                                 Traceback (most recent call last)",
            "\u001b[0;32m/tmp/ipython-input-4221904277.py\u001b[0m in \u001b[0;36m<cell line: 0>\u001b[0;34m()\u001b[0m\n\u001b[0;32m----> 1\u001b[0;31m \u001b[0ma\u001b[0m \u001b[0;34m+\u001b[0m \u001b[0;36m3\u001b[0m\u001b[0;34m\u001b[0m\u001b[0;34m\u001b[0m\u001b[0m\n\u001b[0m",
            "\u001b[0;31mTypeError\u001b[0m: can only concatenate list (not \"int\") to list"
          ]
        }
      ]
    },
    {
      "cell_type": "markdown",
      "source": [
        "Concatenation of list"
      ],
      "metadata": {
        "id": "nRGyl6sfnPmF"
      }
    },
    {
      "cell_type": "code",
      "source": [
        "b=[5,6,7]\n",
        "a+b # a new list will be created. a and b will remain the same"
      ],
      "metadata": {
        "colab": {
          "base_uri": "https://localhost:8080/"
        },
        "id": "ZXMcZkx7neul",
        "outputId": "376d7c50-a1ff-4c88-a225-3c1bfec2c58b"
      },
      "execution_count": null,
      "outputs": [
        {
          "output_type": "execute_result",
          "data": {
            "text/plain": [
              "[7, 1, 2, 3, 4, 5, 6, 5, 6, 7]"
            ]
          },
          "metadata": {},
          "execution_count": 48
        }
      ]
    },
    {
      "cell_type": "markdown",
      "source": [
        "Multiplication"
      ],
      "metadata": {
        "id": "IJSWPvGcn0-W"
      }
    },
    {
      "cell_type": "code",
      "source": [
        "a*b #this is not supported"
      ],
      "metadata": {
        "colab": {
          "base_uri": "https://localhost:8080/",
          "height": 141
        },
        "id": "LXeW8PUonjoH",
        "outputId": "6c3114d6-7232-47cb-d6ec-ad136771150f"
      },
      "execution_count": null,
      "outputs": [
        {
          "output_type": "error",
          "ename": "TypeError",
          "evalue": "can't multiply sequence by non-int of type 'list'",
          "traceback": [
            "\u001b[0;31m---------------------------------------------------------------------------\u001b[0m",
            "\u001b[0;31mTypeError\u001b[0m                                 Traceback (most recent call last)",
            "\u001b[0;32m/tmp/ipython-input-2322537694.py\u001b[0m in \u001b[0;36m<cell line: 0>\u001b[0;34m()\u001b[0m\n\u001b[0;32m----> 1\u001b[0;31m \u001b[0ma\u001b[0m\u001b[0;34m*\u001b[0m\u001b[0mb\u001b[0m \u001b[0;31m#this is not supported\u001b[0m\u001b[0;34m\u001b[0m\u001b[0;34m\u001b[0m\u001b[0m\n\u001b[0m",
            "\u001b[0;31mTypeError\u001b[0m: can't multiply sequence by non-int of type 'list'"
          ]
        }
      ]
    },
    {
      "cell_type": "markdown",
      "source": [
        "But multiplication of list is supported"
      ],
      "metadata": {
        "id": "SiMqI584nl3_"
      }
    },
    {
      "cell_type": "code",
      "source": [
        "a*3 #It copies the list 3 times"
      ],
      "metadata": {
        "colab": {
          "base_uri": "https://localhost:8080/"
        },
        "id": "n1LzKdXfnsP5",
        "outputId": "cb3af11c-b0cb-40b7-d30b-311eb06df53b"
      },
      "execution_count": null,
      "outputs": [
        {
          "output_type": "execute_result",
          "data": {
            "text/plain": [
              "[1, 2, 3, 4, 1, 2, 3, 4, 1, 2, 3, 4]"
            ]
          },
          "metadata": {},
          "execution_count": 40
        }
      ]
    },
    {
      "cell_type": "markdown",
      "source": [
        "**append() function**"
      ],
      "metadata": {
        "id": "RTWGChuzntNj"
      }
    },
    {
      "cell_type": "markdown",
      "source": [
        "It adds an element at the end"
      ],
      "metadata": {
        "id": "K1vwOcnjodmS"
      }
    },
    {
      "cell_type": "code",
      "source": [
        "a=[1,2,3,4,5]\n",
        "a.append(6) #adds 6 at the end\n",
        "a"
      ],
      "metadata": {
        "colab": {
          "base_uri": "https://localhost:8080/"
        },
        "id": "wUDKUZo8okjN",
        "outputId": "07f222ab-a03d-41f2-cea1-1f7ed8141ec0"
      },
      "execution_count": null,
      "outputs": [
        {
          "output_type": "execute_result",
          "data": {
            "text/plain": [
              "[1, 2, 3, 4, 5, 6]"
            ]
          },
          "metadata": {},
          "execution_count": 45
        }
      ]
    },
    {
      "cell_type": "markdown",
      "source": [
        "**insert() function**"
      ],
      "metadata": {
        "id": "7-Lz4Zh1o0d_"
      }
    },
    {
      "cell_type": "markdown",
      "source": [
        "It adds data to a specific index\n",
        "\n",
        "\n"
      ],
      "metadata": {
        "id": "YqDTp59Zo9o1"
      }
    },
    {
      "cell_type": "markdown",
      "source": [
        "The existing elements are shifted to the right.\n"
      ],
      "metadata": {
        "id": "j-eyNnXqpePh"
      }
    },
    {
      "cell_type": "code",
      "source": [
        "#a.insert(index, object)\n",
        "a.insert(0,7) #adds 7 at the 0th index\n",
        "a"
      ],
      "metadata": {
        "colab": {
          "base_uri": "https://localhost:8080/"
        },
        "id": "vQlC8RgQpALK",
        "outputId": "2873d837-e93d-4711-e326-a43f8197f005"
      },
      "execution_count": null,
      "outputs": [
        {
          "output_type": "execute_result",
          "data": {
            "text/plain": [
              "[7, 1, 2, 3, 4, 5, 6]"
            ]
          },
          "metadata": {},
          "execution_count": 46
        }
      ]
    },
    {
      "cell_type": "markdown",
      "source": [
        "**extend() function**"
      ],
      "metadata": {
        "id": "_8g3TgYZphzY"
      }
    },
    {
      "cell_type": "markdown",
      "source": [
        "It adds multiple elements at the end"
      ],
      "metadata": {
        "id": "Yg0SLQwUp2ty"
      }
    },
    {
      "cell_type": "code",
      "source": [
        "a.extend(b)\n",
        "a #here, the value of a gets changed"
      ],
      "metadata": {
        "colab": {
          "base_uri": "https://localhost:8080/"
        },
        "id": "6r6-FhbNp7aV",
        "outputId": "15f9dc45-770e-4975-a9f2-f475a2035e33"
      },
      "execution_count": null,
      "outputs": [
        {
          "output_type": "execute_result",
          "data": {
            "text/plain": [
              "[7, 1, 2, 3, 4, 5, 6, 5, 6, 7, 5, 6, 7, 1, 0, 1, 1, 0, 1, 1, 0, 1, 5, 6, 7]"
            ]
          },
          "metadata": {},
          "execution_count": 56
        }
      ]
    },
    {
      "cell_type": "code",
      "source": [
        "a=[1,2,3,4]\n",
        "a.extend([0,0,1])\n",
        "a"
      ],
      "metadata": {
        "colab": {
          "base_uri": "https://localhost:8080/"
        },
        "id": "Lj58Ddy3qazq",
        "outputId": "928a2639-5f0e-4097-de0d-6f0d3980678c"
      },
      "execution_count": null,
      "outputs": [
        {
          "output_type": "execute_result",
          "data": {
            "text/plain": [
              "[1, 2, 3, 4, 0, 0, 1]"
            ]
          },
          "metadata": {},
          "execution_count": 58
        }
      ]
    },
    {
      "cell_type": "markdown",
      "source": [
        "**remove() function**"
      ],
      "metadata": {
        "id": "Ko1lxF0QqnX7"
      }
    },
    {
      "cell_type": "markdown",
      "source": [
        "it removes a specific element from the list"
      ],
      "metadata": {
        "id": "Gcspmvnhq5v_"
      }
    },
    {
      "cell_type": "code",
      "source": [
        "a=[1,2,3,4,5,6]\n",
        "a.remove(5) #5 is the element NOT the index\n",
        "a"
      ],
      "metadata": {
        "colab": {
          "base_uri": "https://localhost:8080/"
        },
        "id": "GtTZyB7wq9bG",
        "outputId": "fe8ae9c9-2050-4c2e-8511-1d1f534a7420"
      },
      "execution_count": null,
      "outputs": [
        {
          "output_type": "execute_result",
          "data": {
            "text/plain": [
              "[1, 2, 3, 4, 6]"
            ]
          },
          "metadata": {},
          "execution_count": 61
        }
      ]
    },
    {
      "cell_type": "code",
      "source": [
        "a=[1,2,3,3,4,5,6]\n",
        "a.remove(3)\n",
        "a"
      ],
      "metadata": {
        "colab": {
          "base_uri": "https://localhost:8080/"
        },
        "id": "CN6Zu2AarAzk",
        "outputId": "564e4a55-8670-47cb-fb63-ba098848174d"
      },
      "execution_count": null,
      "outputs": [
        {
          "output_type": "execute_result",
          "data": {
            "text/plain": [
              "[1, 2, 3, 4, 5, 6]"
            ]
          },
          "metadata": {},
          "execution_count": 65
        }
      ]
    },
    {
      "cell_type": "code",
      "source": [
        "#remove() only deletes the first occurence"
      ],
      "metadata": {
        "id": "ZVR7hD29rLw4"
      },
      "execution_count": null,
      "outputs": []
    },
    {
      "cell_type": "markdown",
      "source": [
        "**pop() function**"
      ],
      "metadata": {
        "id": "PU2fKxmarZ7H"
      }
    },
    {
      "cell_type": "markdown",
      "source": [
        "It removes an element from the specific index"
      ],
      "metadata": {
        "id": "ysFBWfphrn9D"
      }
    },
    {
      "cell_type": "markdown",
      "source": [
        "It gives output= the element which it has remoed from that particular index"
      ],
      "metadata": {
        "id": "rhy0TLvTrwx0"
      }
    },
    {
      "cell_type": "code",
      "source": [
        "a=[1,2,3,4,5,6]\n",
        "a.pop(1) #1 is the index which needs to be popped"
      ],
      "metadata": {
        "colab": {
          "base_uri": "https://localhost:8080/"
        },
        "id": "RdBh5RhTrtwX",
        "outputId": "73b885ee-f3ba-43be-9aff-1f0001c776c5"
      },
      "execution_count": null,
      "outputs": [
        {
          "output_type": "execute_result",
          "data": {
            "text/plain": [
              "2"
            ]
          },
          "metadata": {},
          "execution_count": 78
        }
      ]
    },
    {
      "cell_type": "code",
      "source": [
        "#b default pop removes the last element if no index value if provided\n",
        "a=[1,'abc',2,'xyz']\n",
        "a.pop()"
      ],
      "metadata": {
        "colab": {
          "base_uri": "https://localhost:8080/",
          "height": 35
        },
        "id": "aBnLeau4_6An",
        "outputId": "ca3b2627-4dd6-4b86-d5f6-a747f5e38b73"
      },
      "execution_count": null,
      "outputs": [
        {
          "output_type": "execute_result",
          "data": {
            "text/plain": [
              "'xyz'"
            ],
            "application/vnd.google.colaboratory.intrinsic+json": {
              "type": "string"
            }
          },
          "metadata": {},
          "execution_count": 79
        }
      ]
    },
    {
      "cell_type": "markdown",
      "source": [
        "**del**"
      ],
      "metadata": {
        "id": "CkaFHvTGr7_X"
      }
    },
    {
      "cell_type": "markdown",
      "source": [
        "It is a python keyword used to delete elements, slices, or even entire variables from memory."
      ],
      "metadata": {
        "id": "exDzVzIWsGKd"
      }
    },
    {
      "cell_type": "code",
      "source": [
        "a=[1,2,3,4,5,6,7]\n",
        "del a[4] #delete whatever is at a[4]\n",
        "a"
      ],
      "metadata": {
        "colab": {
          "base_uri": "https://localhost:8080/"
        },
        "id": "lTMzStO-sgzx",
        "outputId": "efb42243-3142-47cc-fbf7-2fcc4847a680"
      },
      "execution_count": null,
      "outputs": [
        {
          "output_type": "execute_result",
          "data": {
            "text/plain": [
              "[1, 2, 3, 4, 6, 7]"
            ]
          },
          "metadata": {},
          "execution_count": 69
        }
      ]
    },
    {
      "cell_type": "code",
      "source": [
        "#pop return the value it deleted but del does not"
      ],
      "metadata": {
        "id": "zFdCLkSntKmY"
      },
      "execution_count": null,
      "outputs": []
    },
    {
      "cell_type": "markdown",
      "source": [
        "**sort()**"
      ],
      "metadata": {
        "id": "joZeqR3h9yfc"
      }
    },
    {
      "cell_type": "code",
      "source": [
        "a=[3,2,5,4,1]\n",
        "a.sort()\n",
        "a"
      ],
      "metadata": {
        "colab": {
          "base_uri": "https://localhost:8080/"
        },
        "id": "OYlbKnwv-Cvd",
        "outputId": "13f57c6b-015d-4134-e934-e815d5c89445"
      },
      "execution_count": null,
      "outputs": [
        {
          "output_type": "execute_result",
          "data": {
            "text/plain": [
              "[1, 2, 3, 4, 5]"
            ]
          },
          "metadata": {},
          "execution_count": 71
        }
      ]
    },
    {
      "cell_type": "markdown",
      "source": [
        "**max()**"
      ],
      "metadata": {
        "id": "qWV5aeCO-HLc"
      }
    },
    {
      "cell_type": "markdown",
      "source": [
        "returns the maximum value but the list should be homogenous"
      ],
      "metadata": {
        "id": "w1bw9IwH-O5N"
      }
    },
    {
      "cell_type": "code",
      "source": [
        "b=[1,2,4,3,4,8,6,]\n",
        "max(b)"
      ],
      "metadata": {
        "colab": {
          "base_uri": "https://localhost:8080/"
        },
        "id": "mD7jq0s4-R-8",
        "outputId": "0ad3db6a-7eb0-48cf-a610-228c7f34e201"
      },
      "execution_count": null,
      "outputs": [
        {
          "output_type": "execute_result",
          "data": {
            "text/plain": [
              "8"
            ]
          },
          "metadata": {},
          "execution_count": 74
        }
      ]
    },
    {
      "cell_type": "code",
      "source": [
        "b=[1,2,'abc',3] #max() doesn't work if the list is heterogenous\n",
        "max(b)"
      ],
      "metadata": {
        "colab": {
          "base_uri": "https://localhost:8080/",
          "height": 158
        },
        "id": "JQzEU28P-ZZS",
        "outputId": "1d31c4eb-05d0-429b-cd3f-1a81d8ef7f2f"
      },
      "execution_count": null,
      "outputs": [
        {
          "output_type": "error",
          "ename": "TypeError",
          "evalue": "'>' not supported between instances of 'str' and 'int'",
          "traceback": [
            "\u001b[0;31m---------------------------------------------------------------------------\u001b[0m",
            "\u001b[0;31mTypeError\u001b[0m                                 Traceback (most recent call last)",
            "\u001b[0;32m/tmp/ipython-input-770459167.py\u001b[0m in \u001b[0;36m<cell line: 0>\u001b[0;34m()\u001b[0m\n\u001b[1;32m      1\u001b[0m \u001b[0mb\u001b[0m\u001b[0;34m=\u001b[0m\u001b[0;34m[\u001b[0m\u001b[0;36m1\u001b[0m\u001b[0;34m,\u001b[0m\u001b[0;36m2\u001b[0m\u001b[0;34m,\u001b[0m\u001b[0;34m'abc'\u001b[0m\u001b[0;34m,\u001b[0m\u001b[0;36m3\u001b[0m\u001b[0;34m]\u001b[0m \u001b[0;31m#max() doesn't work if the list is heterogenous\u001b[0m\u001b[0;34m\u001b[0m\u001b[0;34m\u001b[0m\u001b[0m\n\u001b[0;32m----> 2\u001b[0;31m \u001b[0mmax\u001b[0m\u001b[0;34m(\u001b[0m\u001b[0mb\u001b[0m\u001b[0;34m)\u001b[0m\u001b[0;34m\u001b[0m\u001b[0;34m\u001b[0m\u001b[0m\n\u001b[0m",
            "\u001b[0;31mTypeError\u001b[0m: '>' not supported between instances of 'str' and 'int'"
          ]
        }
      ]
    },
    {
      "cell_type": "markdown",
      "source": [
        "**index()**"
      ],
      "metadata": {
        "id": "YtpWK0tV-x6J"
      }
    },
    {
      "cell_type": "markdown",
      "source": [
        "gives the index of a particular element"
      ],
      "metadata": {
        "id": "BmN_d2e_-1YC"
      }
    },
    {
      "cell_type": "code",
      "source": [
        "b=[1,2,3,4,2,5]\n",
        "b.index(2)"
      ],
      "metadata": {
        "colab": {
          "base_uri": "https://localhost:8080/"
        },
        "id": "G7brYoI-_Ilh",
        "outputId": "eb5c4f30-4409-4b73-9c34-51d57b0f9091"
      },
      "execution_count": null,
      "outputs": [
        {
          "output_type": "execute_result",
          "data": {
            "text/plain": [
              "1"
            ]
          },
          "metadata": {},
          "execution_count": 76
        }
      ]
    },
    {
      "cell_type": "code",
      "source": [
        "#gives index of the first occurence of 2"
      ],
      "metadata": {
        "id": "bY02hugA_NY5"
      },
      "execution_count": null,
      "outputs": []
    },
    {
      "cell_type": "markdown",
      "source": [
        "**Output Lists**"
      ],
      "metadata": {
        "id": "h6bUNcJ4BUaz"
      }
    },
    {
      "cell_type": "code",
      "source": [
        "a=[2,3,7,5,1,4]"
      ],
      "metadata": {
        "id": "K84MMBAPIG2f"
      },
      "execution_count": null,
      "outputs": []
    },
    {
      "cell_type": "code",
      "source": [
        "for i in a:\n",
        "  print(i)"
      ],
      "metadata": {
        "colab": {
          "base_uri": "https://localhost:8080/"
        },
        "id": "Z0tzDY8CIJ_e",
        "outputId": "a067fa22-b9ff-423b-eac8-105cf2984f99"
      },
      "execution_count": null,
      "outputs": [
        {
          "output_type": "stream",
          "name": "stdout",
          "text": [
            "2\n",
            "3\n",
            "7\n",
            "5\n",
            "1\n",
            "4\n"
          ]
        }
      ]
    },
    {
      "cell_type": "markdown",
      "source": [
        "**Input Lists**"
      ],
      "metadata": {
        "id": "CySnxlclINKq"
      }
    },
    {
      "cell_type": "code",
      "source": [
        "#first input the length of the list and then the elements\n",
        "\n",
        "s=int(input())\n",
        "a=[]\n",
        "for i in range(s):\n",
        "  n=int(input()) #assuming we are taking integer input\n",
        "  a.append(n)\n",
        "a"
      ],
      "metadata": {
        "colab": {
          "base_uri": "https://localhost:8080/"
        },
        "id": "yWdpykTkITHY",
        "outputId": "88c99fe4-3758-47b4-93a6-48f143d62699"
      },
      "execution_count": null,
      "outputs": [
        {
          "name": "stdout",
          "output_type": "stream",
          "text": [
            "5\n",
            "1\n",
            "2\n",
            "3\n",
            "4\n",
            "5\n"
          ]
        },
        {
          "output_type": "execute_result",
          "data": {
            "text/plain": [
              "[1, 2, 3, 4, 5]"
            ]
          },
          "metadata": {},
          "execution_count": 84
        }
      ]
    },
    {
      "cell_type": "markdown",
      "source": [
        "Taking input of list without asking for the length first:"
      ],
      "metadata": {
        "id": "7mb9Z_sBJhKf"
      }
    },
    {
      "cell_type": "code",
      "source": [
        "line=input()\n",
        "l=  line.split()\n"
      ],
      "metadata": {
        "colab": {
          "base_uri": "https://localhost:8080/"
        },
        "id": "iiXtUZsiLo4j",
        "outputId": "fe789fc4-7519-4292-f1fa-91aa93742ccd"
      },
      "execution_count": null,
      "outputs": [
        {
          "name": "stdout",
          "output_type": "stream",
          "text": [
            "1 2 3 4 5\n"
          ]
        },
        {
          "output_type": "execute_result",
          "data": {
            "text/plain": [
              "['1', '2', '3', '4', '5']"
            ]
          },
          "metadata": {},
          "execution_count": 85
        }
      ]
    },
    {
      "cell_type": "code",
      "source": [],
      "metadata": {
        "id": "-9oGtE_5LtYi"
      },
      "execution_count": null,
      "outputs": []
    }
  ]
}