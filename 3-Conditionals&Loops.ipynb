{
 "cells": [
  {
   "cell_type": "markdown",
   "id": "21ed686c-cb7e-490a-bd00-ce4ea9f74fca",
   "metadata": {},
   "source": [
    "### Boolean Datatype"
   ]
  },
  {
   "cell_type": "code",
   "execution_count": 2,
   "id": "61a8fd3b-de0f-4d3e-a806-1385f1201681",
   "metadata": {},
   "outputs": [],
   "source": [
    "a= True\n",
    "b= False\n",
    "# don't put them in \" \" as they will become strings\n",
    "# True & False are reserved keywords\n",
    "# true & false are NOT"
   ]
  },
  {
   "cell_type": "code",
   "execution_count": 3,
   "id": "c04ac43c-a4b6-4dc2-b661-5f2339482d95",
   "metadata": {},
   "outputs": [
    {
     "name": "stdout",
     "output_type": "stream",
     "text": [
      "<class 'bool'>\n",
      "<class 'bool'>\n"
     ]
    }
   ],
   "source": [
    "print(type(a))\n",
    "print(type(a))"
   ]
  },
  {
   "cell_type": "markdown",
   "id": "890e244f-4a95-4869-9437-697fe3e6e3f9",
   "metadata": {},
   "source": [
    "### Relational Operators"
   ]
  },
  {
   "cell_type": "code",
   "execution_count": 9,
   "id": "555a72da-da2d-4f28-86be-5ef0b3479719",
   "metadata": {},
   "outputs": [
    {
     "name": "stdout",
     "output_type": "stream",
     "text": [
      "False\n",
      "True\n",
      "False\n",
      "True\n",
      "False\n",
      "True\n"
     ]
    }
   ],
   "source": [
    "a= 10\n",
    "b= 20\n",
    "print(a > b) #this means 'is a greater than b??' and returns a boolean value accordingly\n",
    "print(a < b)\n",
    "print(a >= b)\n",
    "print(a <= b)\n",
    "print(a == b)\n",
    "print(a != b)"
   ]
  },
  {
   "cell_type": "markdown",
   "id": "355d2334-f2bf-46f3-9694-8438bba5c0a8",
   "metadata": {},
   "source": [
    "### Logical Operators\n",
    "[and , or]\n"
   ]
  },
  {
   "cell_type": "markdown",
   "id": "59844be7-583a-4327-a988-255949582fa5",
   "metadata": {},
   "source": [
    "Used to combine two booleans"
   ]
  },
  {
   "cell_type": "markdown",
   "id": "68aa8daf-8ba9-4a0f-90dd-93d824a1f773",
   "metadata": {},
   "source": [
    "##### AND \n",
    "both of them have to be true for the result to be true\n",
    "###### T T= T\n",
    "###### T F= F\n",
    "###### F T= F\n",
    "###### F F= F\n",
    "\n",
    "##### OR\n",
    "either one of them have to be true for the result to be true\n",
    "###### T T= T\n",
    "###### T F= T\n",
    "###### F T= T\n",
    "###### F F= F\n",
    "\n"
   ]
  },
  {
   "cell_type": "code",
   "execution_count": 14,
   "id": "5b961a4d-8a2d-482b-b290-d77b11d4c569",
   "metadata": {},
   "outputs": [
    {
     "name": "stdout",
     "output_type": "stream",
     "text": [
      "False\n",
      "True\n",
      "True\n"
     ]
    }
   ],
   "source": [
    "c1 = a>10\n",
    "c2= b>10\n",
    "r1= c1 and c2\n",
    "r2= c1 or c2\n",
    "r3= not(c1)  #not negates the boolean value\n",
    "print(r1)\n",
    "print(r2)\n",
    "print(r3)"
   ]
  },
  {
   "cell_type": "markdown",
   "id": "e07958e1-8835-4f7b-887c-98612e240ede",
   "metadata": {},
   "source": [
    "### If-else"
   ]
  },
  {
   "cell_type": "code",
   "execution_count": 16,
   "id": "88d8c848-a966-4694-b960-1f400522bb8f",
   "metadata": {},
   "outputs": [
    {
     "name": "stdout",
     "output_type": "stream",
     "text": [
      "I am inside if\n"
     ]
    }
   ],
   "source": [
    "a= True\n",
    "if a:\n",
    "    print(\"I am inside if\")\n",
    "else:\n",
    "    print(\"I am inside else\")"
   ]
  },
  {
   "cell_type": "markdown",
   "id": "75f8a67e-2170-46cf-ab08-f06871f2d6e1",
   "metadata": {},
   "source": [
    "In python, you need to maintain indentation in the syntax, else you will get an error"
   ]
  },
  {
   "cell_type": "code",
   "execution_count": 18,
   "id": "180adf42-5252-4422-adf1-c97ae775d510",
   "metadata": {},
   "outputs": [
    {
     "ename": "IndentationError",
     "evalue": "expected an indented block after 'if' statement on line 2 (697567193.py, line 3)",
     "output_type": "error",
     "traceback": [
      "\u001b[1;36m  Cell \u001b[1;32mIn[18], line 3\u001b[1;36m\u001b[0m\n\u001b[1;33m    print(\"I am inside if\")\u001b[0m\n\u001b[1;37m    ^\u001b[0m\n\u001b[1;31mIndentationError\u001b[0m\u001b[1;31m:\u001b[0m expected an indented block after 'if' statement on line 2\n"
     ]
    }
   ],
   "source": [
    "a= True\n",
    "if a:\n",
    "print(\"I am inside if\")\n",
    "else:\n",
    "    print(\"I am inside else\")"
   ]
  },
  {
   "cell_type": "markdown",
   "id": "e9a70597-d933-4bfa-a25a-fb25e28e1912",
   "metadata": {},
   "source": [
    "#### Check number to be odd or even"
   ]
  },
  {
   "cell_type": "code",
   "execution_count": 20,
   "id": "eb7c6bae-09f2-4b2f-8177-96b5cc9735b9",
   "metadata": {},
   "outputs": [
    {
     "name": "stdin",
     "output_type": "stream",
     "text": [
      " 8\n"
     ]
    },
    {
     "name": "stdout",
     "output_type": "stream",
     "text": [
      "EVEN\n"
     ]
    }
   ],
   "source": [
    "n=int(input())\n",
    "r=n % 2\n",
    "is_even= (r==0)\n",
    "if is_even:\n",
    "    print(\"EVEN\")\n",
    "else:\n",
    "    print(\"ODD\")"
   ]
  },
  {
   "cell_type": "markdown",
   "id": "7700626c-a81d-4959-98ac-6838f407dd41",
   "metadata": {},
   "source": [
    "ANOTHER APPROACH"
   ]
  },
  {
   "cell_type": "code",
   "execution_count": 23,
   "id": "4c17cd77-0c8d-4f31-be25-3d4a6ae95e32",
   "metadata": {},
   "outputs": [
    {
     "name": "stdin",
     "output_type": "stream",
     "text": [
      " 19\n"
     ]
    },
    {
     "name": "stdout",
     "output_type": "stream",
     "text": [
      "ODD\n"
     ]
    }
   ],
   "source": [
    "n=int(input())\n",
    "n % 2\n",
    "if (n%2==0):\n",
    "    print(\"EVEN\")\n",
    "else:\n",
    "    print(\"ODD\")"
   ]
  },
  {
   "cell_type": "markdown",
   "id": "c984d6f4-64e2-464e-b3cc-e98c3dc1c05e",
   "metadata": {},
   "source": [
    "#### Take two inputs from user and print whether both of them are greater than 10 or not"
   ]
  },
  {
   "cell_type": "code",
   "execution_count": 26,
   "id": "20a3712d-3b32-4f37-bb7b-0e66c4228d9f",
   "metadata": {},
   "outputs": [
    {
     "name": "stdin",
     "output_type": "stream",
     "text": [
      " 23\n",
      " 34\n"
     ]
    },
    {
     "name": "stdout",
     "output_type": "stream",
     "text": [
      "YES, Both>10\n"
     ]
    }
   ],
   "source": [
    "a=int(input())\n",
    "b=int(input())\n",
    "if (a>10) and (b>10):\n",
    "    print('YES, Both>10')\n",
    "else:\n",
    "    print('NO, they are not!')"
   ]
  },
  {
   "cell_type": "markdown",
   "id": "9e00b0aa-16d9-492c-bae5-4cc3b0e45966",
   "metadata": {},
   "source": [
    "### elif"
   ]
  },
  {
   "cell_type": "markdown",
   "id": "40829ba5-538b-4252-a568-152da674665f",
   "metadata": {},
   "source": [
    "If the first condition is not met, then it checks if the second condition does"
   ]
  },
  {
   "cell_type": "markdown",
   "id": "ad0839c7-8162-4cdd-a71c-510e7717ad52",
   "metadata": {},
   "source": [
    "If the first condition (if) gets fulfilled, it does not check the (elif) and (else) condition"
   ]
  },
  {
   "cell_type": "code",
   "execution_count": 32,
   "id": "8188310e-eef2-4917-bc79-0d514763732f",
   "metadata": {},
   "outputs": [],
   "source": [
    "#### print the largest out of 3 nos."
   ]
  },
  {
   "cell_type": "code",
   "execution_count": 34,
   "id": "6a4f60d3-ab32-4e95-8536-b4b33464c367",
   "metadata": {},
   "outputs": [
    {
     "name": "stdin",
     "output_type": "stream",
     "text": [
      " 3\n",
      " 3\n",
      " 1\n"
     ]
    },
    {
     "name": "stdout",
     "output_type": "stream",
     "text": [
      "1\n"
     ]
    }
   ],
   "source": [
    "a=int(input())\n",
    "b=int(input())\n",
    "c=int(input())\n",
    "\n",
    "if a>=b and a>=c:\n",
    "    print(a)\n",
    "elif b>=a and b>= c:\n",
    "    print(b)\n",
    "else:\n",
    "    print(c)"
   ]
  },
  {
   "cell_type": "code",
   "execution_count": 1,
   "id": "32cb6e12-e226-4411-af4a-42ba93ae7233",
   "metadata": {},
   "outputs": [
    {
     "name": "stdout",
     "output_type": "stream",
     "text": [
      "hello\n"
     ]
    }
   ],
   "source": [
    "print('hello')"
   ]
  },
  {
   "cell_type": "code",
   "execution_count": null,
   "id": "710ceefa-999c-46d9-8b1f-301c0a3eb909",
   "metadata": {},
   "outputs": [],
   "source": []
  }
 ],
 "metadata": {
  "kernelspec": {
   "display_name": "Python 3 (ipykernel)",
   "language": "python",
   "name": "python3"
  },
  "language_info": {
   "codemirror_mode": {
    "name": "ipython",
    "version": 3
   },
   "file_extension": ".py",
   "mimetype": "text/x-python",
   "name": "python",
   "nbconvert_exporter": "python",
   "pygments_lexer": "ipython3",
   "version": "3.12.4"
  }
 },
 "nbformat": 4,
 "nbformat_minor": 5
}
