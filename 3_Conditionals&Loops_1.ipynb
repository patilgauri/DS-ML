{
  "nbformat": 4,
  "nbformat_minor": 0,
  "metadata": {
    "colab": {
      "provenance": [],
      "authorship_tag": "ABX9TyPG6nt4XBdzrseZXjHMf4ll",
      "include_colab_link": true
    },
    "kernelspec": {
      "name": "python3",
      "display_name": "Python 3"
    },
    "language_info": {
      "name": "python"
    }
  },
  "cells": [
    {
      "cell_type": "markdown",
      "metadata": {
        "id": "view-in-github",
        "colab_type": "text"
      },
      "source": [
        "<a href=\"https://colab.research.google.com/github/patilgauri/DS-ML/blob/main/3_Conditionals%26Loops_1.ipynb\" target=\"_parent\"><img src=\"https://colab.research.google.com/assets/colab-badge.svg\" alt=\"Open In Colab\"/></a>"
      ]
    },
    {
      "cell_type": "markdown",
      "source": [
        "**Nested Conditionals**\n",
        "\n"
      ],
      "metadata": {
        "id": "aPmS_OzdFZ7m"
      }
    },
    {
      "cell_type": "markdown",
      "source": [
        "print if even or odd. Also check if n is zero"
      ],
      "metadata": {
        "id": "kSVPHiyIowX4"
      }
    },
    {
      "cell_type": "code",
      "source": [
        "n=int(input())\n",
        "if n%2==0 :\n",
        "  print(\"EVEN\")\n",
        "  if(n==0):\n",
        "    print(\" n is ZERO\")\n",
        "else:\n",
        "  print(\"ODD\")"
      ],
      "metadata": {
        "id": "Q4HK89neY8sa",
        "colab": {
          "base_uri": "https://localhost:8080/"
        },
        "outputId": "a48e4e3d-376f-43a4-af35-39d5819765b4"
      },
      "execution_count": 7,
      "outputs": [
        {
          "output_type": "stream",
          "name": "stdout",
          "text": [
            "30\n",
            "EVEN\n"
          ]
        }
      ]
    },
    {
      "cell_type": "markdown",
      "source": [
        "If n is even and if m is even print 1, if m is odd print 2. If n is odd print 3"
      ],
      "metadata": {
        "id": "zcFPht2uomgt"
      }
    },
    {
      "cell_type": "code",
      "source": [
        "n=int(input())\n",
        "m=int(input())\n",
        "if n%2==0:\n",
        "  if m%2==0:\n",
        "    print(1)\n",
        "  else:\n",
        "    print(2)\n",
        "else:\n",
        "  print(3)"
      ],
      "metadata": {
        "colab": {
          "base_uri": "https://localhost:8080/"
        },
        "id": "37K5cv79qYah",
        "outputId": "d1f02f63-9da3-4094-d4e9-5c1bdf6ba87f"
      },
      "execution_count": 8,
      "outputs": [
        {
          "output_type": "stream",
          "name": "stdout",
          "text": [
            "20\n",
            "20\n",
            "1\n"
          ]
        }
      ]
    },
    {
      "cell_type": "markdown",
      "source": [
        "**While Loop**"
      ],
      "metadata": {
        "id": "_-9l-Uleq963"
      }
    },
    {
      "cell_type": "markdown",
      "source": [
        "print * n number of times"
      ],
      "metadata": {
        "id": "6Y6H48kWrbJz"
      }
    },
    {
      "cell_type": "code",
      "source": [
        "n= int(input())\n",
        "count=1\n",
        "while count<=n :\n",
        "  print(\"*\")\n",
        "  count+=1"
      ],
      "metadata": {
        "colab": {
          "base_uri": "https://localhost:8080/"
        },
        "id": "SQdAhAHQsjPK",
        "outputId": "177e9118-64b4-4c89-d4a0-61f14c9ee766"
      },
      "execution_count": 9,
      "outputs": [
        {
          "output_type": "stream",
          "name": "stdout",
          "text": [
            "5\n",
            "*\n",
            "*\n",
            "*\n",
            "*\n",
            "*\n"
          ]
        }
      ]
    },
    {
      "cell_type": "markdown",
      "source": [
        "\n",
        "print first n natural numbers"
      ],
      "metadata": {
        "id": "fENZ_CMDsye4"
      }
    },
    {
      "cell_type": "code",
      "source": [
        "n =int(input())\n",
        "count=1\n",
        "while count<=n :\n",
        "  print(count)\n",
        "  count=count+1"
      ],
      "metadata": {
        "colab": {
          "base_uri": "https://localhost:8080/"
        },
        "id": "lIEDMinMs7Nw",
        "outputId": "22d25b8d-db97-4edf-aa60-8feaddb82dd9"
      },
      "execution_count": 10,
      "outputs": [
        {
          "output_type": "stream",
          "name": "stdout",
          "text": [
            "5\n",
            "1\n",
            "2\n",
            "3\n",
            "4\n",
            "5\n"
          ]
        }
      ]
    },
    {
      "cell_type": "markdown",
      "source": [
        "sum of numbers from 1 to n\n"
      ],
      "metadata": {
        "id": "jj9DY3WbtXS6"
      }
    },
    {
      "cell_type": "code",
      "source": [
        "n =int(input())\n",
        "sum=0\n",
        "count=1\n",
        "while count<=n :\n",
        "  sum=sum+count\n",
        "  count=count+1\n",
        "print(sum)"
      ],
      "metadata": {
        "colab": {
          "base_uri": "https://localhost:8080/"
        },
        "id": "D8iO_5leugV2",
        "outputId": "dfd633ca-ca16-4617-a7a5-1f474361a5c9"
      },
      "execution_count": 14,
      "outputs": [
        {
          "output_type": "stream",
          "name": "stdout",
          "text": [
            "5\n",
            "15\n"
          ]
        }
      ]
    },
    {
      "cell_type": "markdown",
      "source": [
        "sum of even numbers till n"
      ],
      "metadata": {
        "id": "3jXJ-L6avQSH"
      }
    },
    {
      "cell_type": "code",
      "source": [
        "n =int(input())\n",
        "sum=0\n",
        "count=1\n",
        "while count<=n :\n",
        "  if count%2==0:\n",
        "    sum=sum+count\n",
        "  count=count+1\n",
        "print(sum)"
      ],
      "metadata": {
        "colab": {
          "base_uri": "https://localhost:8080/"
        },
        "id": "wx_fHGrjvq9T",
        "outputId": "288b1976-7c20-47d0-e015-a940a9a529a4"
      },
      "execution_count": 17,
      "outputs": [
        {
          "output_type": "stream",
          "name": "stdout",
          "text": [
            "6\n",
            "12\n"
          ]
        }
      ]
    },
    {
      "cell_type": "markdown",
      "source": [
        "**Primality Checking**"
      ],
      "metadata": {
        "id": "Hr0VUiM7wYDS"
      }
    },
    {
      "cell_type": "markdown",
      "source": [
        "check if a number is prime or not"
      ],
      "metadata": {
        "id": "WJ63FeWmw5R4"
      }
    },
    {
      "cell_type": "code",
      "source": [
        "n =int(input())\n",
        "count=2\n",
        "isPrime= True\n",
        "if n <= 1: # Handle numbers less than or equal to 1\n",
        "  isPrime = False\n",
        "else:\n",
        "  while count<n:\n",
        "    if(n%count==0):\n",
        "      isPrime= False\n",
        "      break\n",
        "    count=count+1\n",
        "\n",
        "if isPrime==True:\n",
        "  print(\"Prime\")\n",
        "else:\n",
        "  print(\"Not Prime\")"
      ],
      "metadata": {
        "colab": {
          "base_uri": "https://localhost:8080/"
        },
        "id": "ufugTIJixz9o",
        "outputId": "85d2c2cb-aa30-4342-91be-17eee0dbc6bd"
      },
      "execution_count": 45,
      "outputs": [
        {
          "output_type": "stream",
          "name": "stdout",
          "text": [
            "9\n",
            "Not Prime\n"
          ]
        }
      ]
    },
    {
      "cell_type": "markdown",
      "source": [
        "**Nested Loops**"
      ],
      "metadata": {
        "id": "385adbYO1m2x"
      }
    },
    {
      "cell_type": "markdown",
      "source": [
        "print all prime numbers from 2 to n"
      ],
      "metadata": {
        "id": "0MaRPEDx5ZP_"
      }
    },
    {
      "cell_type": "code",
      "source": [
        "n=int(input())\n",
        "m=2\n",
        "while m<=n:\n",
        "  count=2\n",
        "  isPrime= True\n",
        "  while count<m:\n",
        "    if(m%count==0):\n",
        "      isPrime= False\n",
        "    count=count+1\n",
        "  if isPrime:\n",
        "    print(m)\n",
        "  m=m+1"
      ],
      "metadata": {
        "colab": {
          "base_uri": "https://localhost:8080/"
        },
        "id": "VqdUywPE5o3n",
        "outputId": "4aab57b1-b8d7-4109-ccb5-4cae044d14de"
      },
      "execution_count": 53,
      "outputs": [
        {
          "output_type": "stream",
          "name": "stdout",
          "text": [
            "10\n",
            "2\n",
            "3\n",
            "5\n",
            "7\n"
          ]
        }
      ]
    },
    {
      "cell_type": "markdown",
      "source": [
        "Reverse a number"
      ],
      "metadata": {
        "id": "hskkjS1x6jIi"
      }
    },
    {
      "cell_type": "code",
      "source": [
        "n=int(input())\n",
        "test_num=0\n",
        "while(n>0):\n",
        "  remainder=n%10\n",
        "  test_num= (test_num*10)+ remainder\n",
        "  n=n//10\n",
        "print(test_num)"
      ],
      "metadata": {
        "colab": {
          "base_uri": "https://localhost:8080/"
        },
        "id": "8v4wcnMTB2LP",
        "outputId": "b44862cf-9401-4576-ec28-6807e39f8023"
      },
      "execution_count": 58,
      "outputs": [
        {
          "output_type": "stream",
          "name": "stdout",
          "text": [
            "1234\n",
            "4321\n"
          ]
        }
      ]
    },
    {
      "cell_type": "markdown",
      "source": [
        "palindrome number"
      ],
      "metadata": {
        "id": "IzEDG75zCHk3"
      }
    },
    {
      "cell_type": "code",
      "source": [
        "n=int(input())\n",
        "org=n\n",
        "test_num=0\n",
        "while(n>0):\n",
        "  remainder=n%10\n",
        "  test_num= (test_num*10)+ remainder\n",
        "  n=n//10\n",
        "\n",
        "if test_num==org:\n",
        "  print(\"true\")\n",
        "else:\n",
        "  print(\"false\")\n"
      ],
      "metadata": {
        "colab": {
          "base_uri": "https://localhost:8080/"
        },
        "id": "BTtI8L-CCeZu",
        "outputId": "c4787beb-efef-4907-b9a4-89b7b34c1ced"
      },
      "execution_count": 63,
      "outputs": [
        {
          "output_type": "stream",
          "name": "stdout",
          "text": [
            "110011\n",
            "true\n"
          ]
        }
      ]
    },
    {
      "cell_type": "markdown",
      "source": [
        "Sum of even and odd digits of a number"
      ],
      "metadata": {
        "id": "SEtIm7dTCziL"
      }
    },
    {
      "cell_type": "code",
      "source": [
        "#eg. 132456\n",
        "#sum of even digits= 2+4+6=12\n",
        "#sum of odd digits= 1+3+5=9\n",
        "n =int(input())\n",
        "even_sum=0\n",
        "odd_sum=0\n",
        "while(n>0):\n",
        "  current_num= n%10\n",
        "  if current_num%2==0:\n",
        "    even_sum=even_sum+ current_num\n",
        "  else:\n",
        "    odd_sum=odd_sum+ current_num\n",
        "  n=n//10\n",
        "\n",
        "print(even_sum, odd_sum)\n",
        "\n"
      ],
      "metadata": {
        "colab": {
          "base_uri": "https://localhost:8080/"
        },
        "id": "__JkHD8WFdik",
        "outputId": "e8ffa6a7-9464-40fc-aac7-e6e74e2f2300"
      },
      "execution_count": 64,
      "outputs": [
        {
          "output_type": "stream",
          "name": "stdout",
          "text": [
            "132456\n",
            "12 9\n"
          ]
        }
      ]
    },
    {
      "cell_type": "markdown",
      "source": [
        "Fibonacci Sequence 0,1,1,2,3,5,8,13,21"
      ],
      "metadata": {
        "id": "M8BsO_21Gfex"
      }
    },
    {
      "cell_type": "code",
      "source": [
        "n=int(input())\n",
        "\n",
        "a=0\n",
        "b=1\n",
        "counter=3\n",
        "if n==1:\n",
        "  print(a)\n",
        "else:\n",
        "  print(a,\" \")\n",
        "  print(b,\" \")\n",
        "\n",
        "  while(counter<=n):\n",
        "    c=a+b\n",
        "    a=b\n",
        "    b=c\n",
        "    print(c,\" \")\n",
        "    if(counter==n):\n",
        "      print(\"The \",n,\"th number in the sequence is\", c)\n",
        "    counter=counter+1\n"
      ],
      "metadata": {
        "colab": {
          "base_uri": "https://localhost:8080/"
        },
        "id": "2-B95GAJLsL5",
        "outputId": "a653a6f9-ad5f-4bf2-9826-7f9acfce914b"
      },
      "execution_count": 69,
      "outputs": [
        {
          "output_type": "stream",
          "name": "stdout",
          "text": [
            "6\n",
            "0  \n",
            "1  \n",
            "1  \n",
            "2  \n",
            "3  \n",
            "5  \n",
            "The  6 th number in the sequence is 5\n"
          ]
        }
      ]
    },
    {
      "cell_type": "code",
      "source": [],
      "metadata": {
        "id": "AQS0OkYEMhkZ"
      },
      "execution_count": null,
      "outputs": []
    }
  ]
}