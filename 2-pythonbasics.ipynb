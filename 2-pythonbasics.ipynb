{
 "cells": [
  {
   "cell_type": "markdown",
   "id": "1dfb5c5a-a00e-4c10-8011-d43ff201649f",
   "metadata": {},
   "source": [
    "### Print Hello World"
   ]
  },
  {
   "cell_type": "code",
   "execution_count": 1,
   "id": "20e83404-0d2c-4655-a714-d069dc86e4b7",
   "metadata": {},
   "outputs": [
    {
     "name": "stdout",
     "output_type": "stream",
     "text": [
      "hello world\n",
      "hello world\n"
     ]
    }
   ],
   "source": [
    "print( \"hello world\")\n",
    "print ('hello world') #you can use both \"\" as well as ''"
   ]
  },
  {
   "cell_type": "markdown",
   "id": "afb9feba-4ba3-4459-886c-8d2630f827d5",
   "metadata": {},
   "source": [
    " the print function by default adds a new line"
   ]
  },
  {
   "cell_type": "markdown",
   "id": "f17eba86-6843-4c66-b279-0c64478547cd",
   "metadata": {},
   "source": [
    "### VARIABLES"
   ]
  },
  {
   "cell_type": "code",
   "execution_count": 3,
   "id": "d2c8fa3a-3bae-41ca-874a-eec2c33e1916",
   "metadata": {},
   "outputs": [
    {
     "data": {
      "text/plain": [
       "30"
      ]
     },
     "execution_count": 3,
     "metadata": {},
     "output_type": "execute_result"
    }
   ],
   "source": [
    "a= 10\n",
    "b= 20\n",
    "a+b"
   ]
  },
  {
   "cell_type": "markdown",
   "id": "204015fe-4718-4a20-b350-045379ffc0dd",
   "metadata": {},
   "source": [
    "we didn't use print for a+b but it still resulted in 30. This is because 30 is the ouput of that specific cell i.e the last line's output"
   ]
  },
  {
   "cell_type": "code",
   "execution_count": 5,
   "id": "0bc3a5a2-3eaa-4392-9fad-473cc4ebf758",
   "metadata": {},
   "outputs": [
    {
     "name": "stdout",
     "output_type": "stream",
     "text": [
      "30\n"
     ]
    }
   ],
   "source": [
    "sum =a+b\n",
    "print(sum)"
   ]
  },
  {
   "cell_type": "markdown",
   "id": "d42c9d49-3929-48d8-95b4-f887fda081ce",
   "metadata": {},
   "source": [
    "##### Naming convention for variables:\n",
    "##### It can contain:\n",
    "#####   //Upper and Lower case alphabets [A-Z ,a-z]\n",
    "#####   //Digits [0-9]\n",
    "#####   //Underscore [ _ ]\n",
    "##### It is case sensitive\n",
    "\n",
    "##### It CANNOT start with a digit\n"
   ]
  },
  {
   "cell_type": "markdown",
   "id": "9f02d1c0-45bf-411a-8eaf-652f6dab4c3c",
   "metadata": {},
   "source": [
    "abc1= 10 valid\n"
   ]
  },
  {
   "cell_type": "markdown",
   "id": "2824ebfe-0cd1-433d-ac79-3039f0dcd16b",
   "metadata": {},
   "source": [
    "ab_c1= 10 valid\n",
    "\n"
   ]
  },
  {
   "cell_type": "markdown",
   "id": "522063d2-f402-45cd-8b6e-0219bcd39cb3",
   "metadata": {},
   "source": [
    "12cd= 10 invalid"
   ]
  },
  {
   "cell_type": "markdown",
   "id": "1bc19129-7bdd-4b66-9d79-dddd8e9f9d5e",
   "metadata": {},
   "source": [
    "### Comments\n",
    "you can write comments by using a # in python"
   ]
  },
  {
   "cell_type": "code",
   "execution_count": 11,
   "id": "826033bd-057b-4a57-b770-2e50840d8c12",
   "metadata": {},
   "outputs": [],
   "source": [
    "abc1= 100\n",
    "#this is a comment and will be ignored by the interpreter"
   ]
  },
  {
   "cell_type": "markdown",
   "id": "fe0ac49c-6e97-4164-9800-62804a1e3534",
   "metadata": {},
   "source": [
    "### Assigning diff. types of data in a variable"
   ]
  },
  {
   "cell_type": "code",
   "execution_count": 13,
   "id": "d5d845c4-6fe3-4873-a5d9-fc0d2b50f856",
   "metadata": {},
   "outputs": [
    {
     "data": {
      "text/plain": [
       "'apple'"
      ]
     },
     "execution_count": 13,
     "metadata": {},
     "output_type": "execute_result"
    }
   ],
   "source": [
    "a= 10\n",
    "a= 20\n",
    "a= \"apple\"\n",
    "a"
   ]
  },
  {
   "cell_type": "markdown",
   "id": "d845fdab-08e9-499f-9769-2cae32ead1e9",
   "metadata": {},
   "source": [
    "### type()\n",
    "##### tells us about the type of the variable"
   ]
  },
  {
   "cell_type": "code",
   "execution_count": 15,
   "id": "a2433764-387d-4e8b-b7a5-dbf3c9fd01bf",
   "metadata": {},
   "outputs": [
    {
     "data": {
      "text/plain": [
       "int"
      ]
     },
     "execution_count": 15,
     "metadata": {},
     "output_type": "execute_result"
    }
   ],
   "source": [
    "a=10\n",
    "type(a)"
   ]
  },
  {
   "cell_type": "code",
   "execution_count": 16,
   "id": "0494c199-bb32-46e5-a5bd-08d9d72f312c",
   "metadata": {},
   "outputs": [
    {
     "data": {
      "text/plain": [
       "str"
      ]
     },
     "execution_count": 16,
     "metadata": {},
     "output_type": "execute_result"
    }
   ],
   "source": [
    "a=\"hello\"\n",
    "type(a)"
   ]
  },
  {
   "cell_type": "code",
   "execution_count": 30,
   "id": "a694b53a-3515-4f92-bf21-53d5c18ffad4",
   "metadata": {},
   "outputs": [
    {
     "name": "stdout",
     "output_type": "stream",
     "text": [
      "<class 'str'>\n",
      "<class 'int'>\n"
     ]
    }
   ],
   "source": [
    "a =\"abc\"\n",
    "print(type(a))\n",
    "a=10\n",
    "print(type(a)) #we had to use print() to display type() result as otherwise only the last line output will get displayed and the second will not"
   ]
  },
  {
   "cell_type": "markdown",
   "id": "7701146f-a5f3-422f-8e97-6a6333d23955",
   "metadata": {},
   "source": [
    "### Python Numbers"
   ]
  },
  {
   "cell_type": "code",
   "execution_count": 19,
   "id": "70640b91-c13d-422c-915e-628c5139e02f",
   "metadata": {},
   "outputs": [
    {
     "name": "stdout",
     "output_type": "stream",
     "text": [
      "<class 'int'>\n",
      "<class 'float'>\n",
      "<class 'complex'>\n"
     ]
    }
   ],
   "source": [
    "a1= 23\n",
    "a2= 3.4\n",
    "a3= 4+5j #you can store complex nos. too\n",
    "print(type(a1))\n",
    "print(type(a2))\n",
    "print(type(a3))\n"
   ]
  },
  {
   "cell_type": "code",
   "execution_count": 20,
   "id": "1e1a90fd-f0fa-45ab-b525-e4dcd82f4224",
   "metadata": {},
   "outputs": [],
   "source": [
    "a= 10\n",
    "a= a+1\n",
    "#here, python will create a new storage for a+1 i.e 11 instead of replacing it with the storage where 10 was stored"
   ]
  },
  {
   "cell_type": "markdown",
   "id": "88c70e91-494c-4863-8857-528957d4b3d8",
   "metadata": {},
   "source": [
    "### Id()\n",
    "It gives you unique no. assosciated with the storage that the variable is pointing to"
   ]
  },
  {
   "cell_type": "code",
   "execution_count": 22,
   "id": "1a2aa401-afcd-4138-9436-f40416358df2",
   "metadata": {},
   "outputs": [
    {
     "name": "stdout",
     "output_type": "stream",
     "text": [
      "140736091978456\n",
      "140736091978488\n"
     ]
    }
   ],
   "source": [
    "a= 10\n",
    "print(id(a))\n",
    "a= a+1\n",
    "print(id(a))"
   ]
  },
  {
   "cell_type": "code",
   "execution_count": 23,
   "id": "7d1c7181-6b4a-402a-8f8f-1484a17597c7",
   "metadata": {},
   "outputs": [
    {
     "name": "stdout",
     "output_type": "stream",
     "text": [
      "140736091978456\n",
      "140736091978456\n"
     ]
    }
   ],
   "source": [
    "a= 10\n",
    "b= 10\n",
    "print(id(a))\n",
    "print(id(b))"
   ]
  },
  {
   "cell_type": "markdown",
   "id": "bb7f03ac-deb8-4075-88a1-d6ff1929ea5b",
   "metadata": {},
   "source": [
    "This is optimization in python. Variables storing the same number, have the same address to store that number. Just like a & b have the same id above."
   ]
  },
  {
   "cell_type": "markdown",
   "id": "67d2de8d-70d4-4294-bc51-53b74f189276",
   "metadata": {},
   "source": [
    "But, this not true for all nos. EXAMPLE:"
   ]
  },
  {
   "cell_type": "code",
   "execution_count": 26,
   "id": "11b63d31-8f21-4375-aba8-1aea25dec6e5",
   "metadata": {},
   "outputs": [
    {
     "name": "stdout",
     "output_type": "stream",
     "text": [
      "2984057972976\n",
      "2984057970736\n"
     ]
    }
   ],
   "source": [
    "a=1000\n",
    "b=1000\n",
    "print(id(a))\n",
    "print(id(b))"
   ]
  },
  {
   "cell_type": "markdown",
   "id": "dbb729d2-b02b-461b-822a-429e3f229f01",
   "metadata": {},
   "source": [
    "Here, we can see that id of a & b is different despite storing the same no. 1000"
   ]
  },
  {
   "cell_type": "markdown",
   "id": "1601c370-f5b5-4c30-b7ab-bc10c0ca5328",
   "metadata": {},
   "source": [
    "##### It is only true for nos. raning from -5 to 256"
   ]
  },
  {
   "cell_type": "markdown",
   "id": "6c5422e4-da5c-4ed7-b784-53e9adfff969",
   "metadata": {},
   "source": [
    "#### Range of nos. in python"
   ]
  },
  {
   "cell_type": "markdown",
   "id": "5f5c1433-cc38-4470-9edc-6d9bb1069bc1",
   "metadata": {},
   "source": [
    "In python, you can store as big no. as you want to, the range of numbers is not an issue. It all depends on how much memory you have allocated to python."
   ]
  },
  {
   "cell_type": "markdown",
   "id": "c29eec33-dec2-4bc9-b62d-a70342210017",
   "metadata": {},
   "source": [
    "### Arithmetic Operators\n",
    "#### +, -, =, /\n",
    "#### //, **, %"
   ]
  },
  {
   "cell_type": "code",
   "execution_count": 31,
   "id": "4a2b5f6f-327d-4874-91bc-1f3c078fd5c6",
   "metadata": {},
   "outputs": [
    {
     "name": "stdout",
     "output_type": "stream",
     "text": [
      "6\n",
      "14\n"
     ]
    }
   ],
   "source": [
    "a= 10\n",
    "b= 4\n",
    "print(a-b)\n",
    "print(a+b)"
   ]
  },
  {
   "cell_type": "code",
   "execution_count": 32,
   "id": "20e33b80-2057-4afc-a352-5a5fe126210e",
   "metadata": {},
   "outputs": [
    {
     "data": {
      "text/plain": [
       "40"
      ]
     },
     "execution_count": 32,
     "metadata": {},
     "output_type": "execute_result"
    }
   ],
   "source": [
    "a*b"
   ]
  },
  {
   "cell_type": "code",
   "execution_count": 33,
   "id": "20a8833e-8d80-4fe0-b578-4fb3d51d2542",
   "metadata": {},
   "outputs": [
    {
     "data": {
      "text/plain": [
       "2.5"
      ]
     },
     "execution_count": 33,
     "metadata": {},
     "output_type": "execute_result"
    }
   ],
   "source": [
    "a/b # floating point division"
   ]
  },
  {
   "cell_type": "code",
   "execution_count": 34,
   "id": "00e0d8f8-5ecb-49e4-a5d8-f2408b6f1277",
   "metadata": {},
   "outputs": [
    {
     "data": {
      "text/plain": [
       "2"
      ]
     },
     "execution_count": 34,
     "metadata": {},
     "output_type": "execute_result"
    }
   ],
   "source": [
    "a//b # integer division"
   ]
  },
  {
   "cell_type": "code",
   "execution_count": 35,
   "id": "e20a3335-b517-476c-bb0f-95de68132392",
   "metadata": {},
   "outputs": [
    {
     "data": {
      "text/plain": [
       "10000"
      ]
     },
     "execution_count": 35,
     "metadata": {},
     "output_type": "execute_result"
    }
   ],
   "source": [
    "a**b # exponentiation: it means a raised to the power b"
   ]
  },
  {
   "cell_type": "code",
   "execution_count": 36,
   "id": "76d2bd44-06ab-486f-8e55-99f3981b3d6f",
   "metadata": {},
   "outputs": [
    {
     "data": {
      "text/plain": [
       "2"
      ]
     },
     "execution_count": 36,
     "metadata": {},
     "output_type": "execute_result"
    }
   ],
   "source": [
    "a%b #modulus: it gives the reamainder when a is divided by b"
   ]
  },
  {
   "cell_type": "code",
   "execution_count": 37,
   "id": "e33b3bc5-8869-436e-a290-e22f47b8af84",
   "metadata": {},
   "outputs": [
    {
     "data": {
      "text/plain": [
       "14"
      ]
     },
     "execution_count": 37,
     "metadata": {},
     "output_type": "execute_result"
    }
   ],
   "source": [
    "2 + (3*4)"
   ]
  },
  {
   "cell_type": "code",
   "execution_count": 38,
   "id": "61edd674-13eb-4cdb-ba9a-e53595bb29d4",
   "metadata": {},
   "outputs": [
    {
     "data": {
      "text/plain": [
       "1"
      ]
     },
     "execution_count": 38,
     "metadata": {},
     "output_type": "execute_result"
    }
   ],
   "source": [
    "2*3//4"
   ]
  },
  {
   "cell_type": "markdown",
   "id": "8c47ea5e-3186-46d3-80cc-d61bd6e256e4",
   "metadata": {},
   "source": [
    "Remember to always use brackets"
   ]
  },
  {
   "cell_type": "markdown",
   "id": "d3393ed1-b81b-421e-bc83-bd1c7b70aeac",
   "metadata": {},
   "source": [
    "#### SIMPLE INTEREST PROGRAM "
   ]
  },
  {
   "cell_type": "code",
   "execution_count": 40,
   "id": "26aa0f2a-28ff-486e-b275-4bbe68e02953",
   "metadata": {},
   "outputs": [
    {
     "data": {
      "text/plain": [
       "24.0"
      ]
     },
     "execution_count": 40,
     "metadata": {},
     "output_type": "execute_result"
    }
   ],
   "source": [
    "p= 100\n",
    "r= 12\n",
    "t= 2\n",
    "SI= (p*r*t)/100\n",
    "SI"
   ]
  },
  {
   "cell_type": "markdown",
   "id": "4478ea4a-7a3c-4f96-89b0-fde5ab63427d",
   "metadata": {},
   "source": [
    "#### FARENHITE TO CELCIUS CONVERSION"
   ]
  },
  {
   "cell_type": "code",
   "execution_count": 41,
   "id": "3dd15c05-b2de-41b0-9d7b-4be2834c507a",
   "metadata": {},
   "outputs": [
    {
     "data": {
      "text/plain": [
       "37.77777777777778"
      ]
     },
     "execution_count": 41,
     "metadata": {},
     "output_type": "execute_result"
    }
   ],
   "source": [
    "f= 100\n",
    "c= (f-32)*5/9\n",
    "c"
   ]
  },
  {
   "cell_type": "code",
   "execution_count": 44,
   "id": "2e7da86c-90e6-4a9c-babb-f9be508f97bc",
   "metadata": {},
   "outputs": [
    {
     "data": {
      "text/plain": [
       "37"
      ]
     },
     "execution_count": 44,
     "metadata": {},
     "output_type": "execute_result"
    }
   ],
   "source": [
    "ci= (f-32)*5//9 # to get the integer celcius value, use integer division operator\n",
    "ci"
   ]
  },
  {
   "cell_type": "markdown",
   "id": "3856f8ca-4105-4ae5-aa28-9fdef912cc4c",
   "metadata": {},
   "source": [
    "### Taking inputs"
   ]
  },
  {
   "cell_type": "markdown",
   "id": "73a501ec-5afb-49c0-8cb1-1c30d6e7d412",
   "metadata": {},
   "source": [
    "input() function takes the input from user"
   ]
  },
  {
   "cell_type": "code",
   "execution_count": 45,
   "id": "05e396b9-8e8a-40cf-be3f-94fda840d626",
   "metadata": {},
   "outputs": [
    {
     "name": "stdin",
     "output_type": "stream",
     "text": [
      " 23\n"
     ]
    },
    {
     "data": {
      "text/plain": [
       "'23'"
      ]
     },
     "execution_count": 45,
     "metadata": {},
     "output_type": "execute_result"
    }
   ],
   "source": [
    "a =input()\n",
    "a"
   ]
  },
  {
   "cell_type": "code",
   "execution_count": 46,
   "id": "5501584d-7486-4723-94c7-1d7e64f8b72a",
   "metadata": {},
   "outputs": [
    {
     "name": "stdin",
     "output_type": "stream",
     "text": [
      " 23\n",
      " 34\n"
     ]
    },
    {
     "name": "stdout",
     "output_type": "stream",
     "text": [
      "2334\n"
     ]
    }
   ],
   "source": [
    "a= input()\n",
    "b= input()\n",
    "s= a+b\n",
    "print(s)"
   ]
  },
  {
   "cell_type": "markdown",
   "id": "dc4f78d8-79fa-420e-a94e-b660d430c4f4",
   "metadata": {},
   "source": [
    "The output is 2334 and not 57"
   ]
  },
  {
   "cell_type": "code",
   "execution_count": 47,
   "id": "76248ddb-c3f4-432c-b258-ae441dd496a6",
   "metadata": {},
   "outputs": [
    {
     "name": "stdout",
     "output_type": "stream",
     "text": [
      "<class 'str'>\n",
      "<class 'str'>\n"
     ]
    }
   ],
   "source": [
    "print(type(a))\n",
    "print(type(b))\n"
   ]
  },
  {
   "cell_type": "markdown",
   "id": "51ce50fd-0bbd-4d3f-8a32-99885478283f",
   "metadata": {},
   "source": [
    "Here, a & b are being treated as strings."
   ]
  },
  {
   "cell_type": "markdown",
   "id": "9ea9fe02-d5ea-466e-9871-7a1f85069fc3",
   "metadata": {},
   "source": [
    "This is because, the input() function treats the input always as a string"
   ]
  },
  {
   "cell_type": "markdown",
   "id": "30aa2cb6-1931-4a04-abab-d2952ab28f3c",
   "metadata": {},
   "source": [
    "So, we will have to change the type of the input entered by the user"
   ]
  },
  {
   "cell_type": "markdown",
   "id": "877bf7f6-9ac8-4391-8967-6f96685c0851",
   "metadata": {},
   "source": [
    "#### int() converts the datatype into an integer datatype"
   ]
  },
  {
   "cell_type": "code",
   "execution_count": 51,
   "id": "0c49fb3a-d4f0-4fc7-8479-be007d1a4f6d",
   "metadata": {},
   "outputs": [
    {
     "data": {
      "text/plain": [
       "int"
      ]
     },
     "execution_count": 51,
     "metadata": {},
     "output_type": "execute_result"
    }
   ],
   "source": [
    "b= '34'\n",
    "c= int(b)\n",
    "type(c)"
   ]
  },
  {
   "cell_type": "code",
   "execution_count": 52,
   "id": "bc65aadc-95bc-49ae-a724-4d99b17bf6ba",
   "metadata": {},
   "outputs": [
    {
     "data": {
      "text/plain": [
       "3"
      ]
     },
     "execution_count": 52,
     "metadata": {},
     "output_type": "execute_result"
    }
   ],
   "source": [
    "c= int(3.7)\n",
    "c"
   ]
  },
  {
   "cell_type": "code",
   "execution_count": 1,
   "id": "cf16a943-f8e6-456d-89fa-78724505afe7",
   "metadata": {},
   "outputs": [
    {
     "ename": "SyntaxError",
     "evalue": "invalid decimal literal (3870631468.py, line 1)",
     "output_type": "error",
     "traceback": [
      "\u001b[1;36m  Cell \u001b[1;32mIn[1], line 1\u001b[1;36m\u001b[0m\n\u001b[1;33m    c=int(33ff4)\u001b[0m\n\u001b[1;37m           ^\u001b[0m\n\u001b[1;31mSyntaxError\u001b[0m\u001b[1;31m:\u001b[0m invalid decimal literal\n"
     ]
    }
   ],
   "source": [
    "c=int(33ff4)"
   ]
  },
  {
   "cell_type": "markdown",
   "id": "1dcd1102-69c8-45ec-a9d6-1c0fe0cbec1b",
   "metadata": {},
   "source": [
    "all-digits string can only be converted"
   ]
  },
  {
   "cell_type": "code",
   "execution_count": 3,
   "id": "a52851fb-ebc1-421f-b1f7-9fd2807971b6",
   "metadata": {},
   "outputs": [
    {
     "name": "stdin",
     "output_type": "stream",
     "text": [
      " 2\n",
      " 3\n"
     ]
    },
    {
     "data": {
      "text/plain": [
       "5"
      ]
     },
     "execution_count": 3,
     "metadata": {},
     "output_type": "execute_result"
    }
   ],
   "source": [
    "a= int(input())\n",
    "b= int(input())\n",
    "a+b"
   ]
  },
  {
   "cell_type": "markdown",
   "id": "9d40d6a2-9472-42b8-ba8c-8cad565b351a",
   "metadata": {},
   "source": [
    "similarly"
   ]
  },
  {
   "cell_type": "code",
   "execution_count": 4,
   "id": "ee9d222f-90be-4b2a-8655-649d5845c312",
   "metadata": {},
   "outputs": [
    {
     "name": "stdin",
     "output_type": "stream",
     "text": [
      " 2\n",
      " 3.8\n"
     ]
    },
    {
     "data": {
      "text/plain": [
       "5.8"
      ]
     },
     "execution_count": 4,
     "metadata": {},
     "output_type": "execute_result"
    }
   ],
   "source": [
    "a= float(input())\n",
    "b= float(input())\n",
    "a+b"
   ]
  },
  {
   "cell_type": "code",
   "execution_count": null,
   "id": "8d72f82d-2545-47c1-8943-e6e669e32582",
   "metadata": {},
   "outputs": [],
   "source": []
  }
 ],
 "metadata": {
  "kernelspec": {
   "display_name": "Python 3 (ipykernel)",
   "language": "python",
   "name": "python3"
  },
  "language_info": {
   "codemirror_mode": {
    "name": "ipython",
    "version": 3
   },
   "file_extension": ".py",
   "mimetype": "text/x-python",
   "name": "python",
   "nbconvert_exporter": "python",
   "pygments_lexer": "ipython3",
   "version": "3.12.7"
  }
 },
 "nbformat": 4,
 "nbformat_minor": 5
}
