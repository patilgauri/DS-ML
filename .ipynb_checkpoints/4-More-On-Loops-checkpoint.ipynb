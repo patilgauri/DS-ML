{
 "cells": [
  {
   "cell_type": "markdown",
   "id": "fe6a869a-c75f-4de1-8995-e0dba0ea5d15",
   "metadata": {},
   "source": [
    "#### For Loops"
   ]
  },
  {
   "cell_type": "markdown",
   "id": "36301856-3343-4725-8c12-21966e2a4c28",
   "metadata": {},
   "source": [
    "**syntax**"
   ]
  },
  {
   "cell_type": "markdown",
   "id": "5501897f-4ba6-42d7-9ac2-fe1d4d798062",
   "metadata": {},
   "source": [
    "##### for i in x: x is a sequence, i is the element in that sequence one at a time\n",
    "##### eg- if x is \"abcdef\"\n",
    "##### it will take a as value, then b, then c....till h and then the loop will stop"
   ]
  },
  {
   "cell_type": "markdown",
   "id": "803df19f-9c2d-48bc-bc9d-4e47bb498a0b",
   "metadata": {},
   "source": [
    "#### for loop for a string"
   ]
  },
  {
   "cell_type": "code",
   "execution_count": 5,
   "id": "9b7980a9-0647-47c8-845c-69fb3a419b1c",
   "metadata": {},
   "outputs": [
    {
     "name": "stdout",
     "output_type": "stream",
     "text": [
      "a\n",
      "b\n",
      "c\n",
      "d\n"
     ]
    }
   ],
   "source": [
    "s=\"abcd\"\n",
    "for c in s:\n",
    "    print(c)"
   ]
  },
  {
   "cell_type": "markdown",
   "id": "2edfd873-516e-4a9f-8cf4-2099e70f1ccc",
   "metadata": {},
   "source": [
    "#### Range method"
   ]
  },
  {
   "cell_type": "markdown",
   "id": "85e4a521-4def-482e-a078-d6fc3db0ad4e",
   "metadata": {},
   "source": [
    "#### for loop for a number"
   ]
  },
  {
   "cell_type": "markdown",
   "id": "7716895f-0ba0-4a94-a046-22cfac679f7b",
   "metadata": {},
   "source": [
    "\n",
    "##### for i in x\n",
    "##### now to include a sequence of collection of nos. from 0 to n, we will use a method call range\n",
    "##### SYNTAX FOR RANGE METHOD:\n",
    "##### range(start, stop, stride)\n",
    "##### stride means how do you want to go from start to stop value\n",
    "##### (0,n,1) means 0 to n with increment of 1\n",
    "##### start is actually from start\n",
    "##### stop ends at (stop-1)"
   ]
  },
  {
   "cell_type": "markdown",
   "id": "64422750-ab74-4a01-9bc1-f9d7b0049199",
   "metadata": {},
   "source": [
    "**print nos. from 1 to n**"
   ]
  },
  {
   "cell_type": "code",
   "execution_count": 12,
   "id": "e4093ff3-cdab-47c3-8cd8-dd518d227986",
   "metadata": {},
   "outputs": [
    {
     "name": "stdin",
     "output_type": "stream",
     "text": [
      " 5\n"
     ]
    },
    {
     "name": "stdout",
     "output_type": "stream",
     "text": [
      "1\n",
      "2\n",
      "3\n",
      "4\n",
      "5\n"
     ]
    }
   ],
   "source": [
    "#giving all three values to range\n",
    "n=int(input())\n",
    "for i in range (1, n+1, 1):\n",
    "    print(i)"
   ]
  },
  {
   "cell_type": "code",
   "execution_count": 16,
   "id": "45a29004-6aef-45ac-be1a-9951c8cab292",
   "metadata": {},
   "outputs": [
    {
     "name": "stdin",
     "output_type": "stream",
     "text": [
      " 5\n"
     ]
    },
    {
     "name": "stdout",
     "output_type": "stream",
     "text": [
      "0\n",
      "1\n",
      "2\n",
      "3\n",
      "4\n",
      "5\n"
     ]
    }
   ],
   "source": [
    "#only one value to range, it uses it as stop\n",
    "n=int(input())\n",
    "for i in range ( n+1 ): #by default start=0, stride/step=1\n",
    "    print(i)"
   ]
  },
  {
   "cell_type": "code",
   "execution_count": 15,
   "id": "40cf53ea-9aef-44e3-b017-ca71baec0aa4",
   "metadata": {},
   "outputs": [
    {
     "name": "stdin",
     "output_type": "stream",
     "text": [
      " 5\n"
     ]
    },
    {
     "name": "stdout",
     "output_type": "stream",
     "text": [
      "1\n",
      "2\n",
      "3\n",
      "4\n",
      "5\n"
     ]
    }
   ],
   "source": [
    "# giving two values to range\n",
    "n=int(input())\n",
    "for i in range (1, n+1): #by default stride=1\n",
    "    print(i)"
   ]
  },
  {
   "cell_type": "markdown",
   "id": "c3f106f7-473f-41a2-a797-ee7726786063",
   "metadata": {},
   "source": [
    "**print nos. from n to 1**"
   ]
  },
  {
   "cell_type": "code",
   "execution_count": 21,
   "id": "026f36e4-170d-4fda-87f5-88cbcbaad873",
   "metadata": {},
   "outputs": [
    {
     "name": "stdin",
     "output_type": "stream",
     "text": [
      " 5\n"
     ]
    },
    {
     "name": "stdout",
     "output_type": "stream",
     "text": [
      "5\n",
      "4\n",
      "3\n",
      "2\n",
      "1\n"
     ]
    }
   ],
   "source": [
    "n=int(input())\n",
    "for i in range (n ,0, -1):\n",
    "    print(i)"
   ]
  },
  {
   "cell_type": "markdown",
   "id": "3ab805a0-17d4-422f-a05b-52fda1c4bc20",
   "metadata": {},
   "source": [
    "**print multiples of 3 till between two nos.**"
   ]
  },
  {
   "cell_type": "code",
   "execution_count": 23,
   "id": "8041868e-f407-42f1-a283-1a354767748e",
   "metadata": {},
   "outputs": [
    {
     "name": "stdin",
     "output_type": "stream",
     "text": [
      " 1\n",
      " 10\n"
     ]
    },
    {
     "name": "stdout",
     "output_type": "stream",
     "text": [
      "3\n",
      "6\n",
      "9\n"
     ]
    }
   ],
   "source": [
    "#assuming a<b\n",
    "a=int(input())\n",
    "b=int(input())\n",
    "for i in range (a,b+1,1):\n",
    "  if i%3==0:  \n",
    "    print(i)"
   ]
  },
  {
   "cell_type": "code",
   "execution_count": 27,
   "id": "81bd15fa-ae6e-4650-8516-2fe970ec3a43",
   "metadata": {},
   "outputs": [
    {
     "name": "stdin",
     "output_type": "stream",
     "text": [
      " 1\n",
      " 20\n"
     ]
    },
    {
     "name": "stdout",
     "output_type": "stream",
     "text": [
      "3\n",
      "6\n",
      "9\n",
      "12\n",
      "15\n",
      "18\n"
     ]
    }
   ],
   "source": [
    "a=int(input())\n",
    "b=int(input())\n",
    "if a%3 == 0:\n",
    "    s=a\n",
    "elif a%3 == 1:\n",
    "    s=a+2\n",
    "else:\n",
    "    s=a+1\n",
    "for i in range (s,b+1,3): \n",
    "    print(i)\n"
   ]
  },
  {
   "cell_type": "code",
   "execution_count": 36,
   "id": "8f75e146-21e1-46e8-9c2f-3e86b8766ebd",
   "metadata": {},
   "outputs": [
    {
     "name": "stdin",
     "output_type": "stream",
     "text": [
      " 10\n"
     ]
    },
    {
     "name": "stdout",
     "output_type": "stream",
     "text": [
      "5\n",
      "11\n",
      "14\n",
      "17\n",
      "23\n",
      "26\n",
      "29\n"
     ]
    }
   ],
   "source": [
    "n=int(input())\n",
    "for i in range(1, n+1, 1):\n",
    "      num=i\n",
    "      num= (num*3)+ 2\n",
    "      if num%4!=0:\n",
    "          print(num)\n",
    "    \n",
    "      "
   ]
  },
  {
   "cell_type": "markdown",
   "id": "7df01763-d996-46e9-ac38-5a09069b0f26",
   "metadata": {},
   "source": [
    "**Write a program to print the first x terms of the mathematical series 3N + 2 which are not multiples of 4.**"
   ]
  },
  {
   "cell_type": "code",
   "execution_count": 6,
   "id": "8b68f976-82ae-4b56-a856-e76f7ecee586",
   "metadata": {},
   "outputs": [
    {
     "name": "stdin",
     "output_type": "stream",
     "text": [
      " 10\n"
     ]
    },
    {
     "name": "stdout",
     "output_type": "stream",
     "text": [
      "5 11 14 17 23 26 29 35 38 41 "
     ]
    }
   ],
   "source": [
    "x=int(input())\n",
    "count=1\n",
    "n=1\n",
    "while(count<=x):\n",
    "    if (3*n+2)%4!=0:\n",
    "        print(3*n+2, end=\" \")\n",
    "        count=count+1\n",
    "    n=n+1"
   ]
  },
  {
   "cell_type": "markdown",
   "id": "e0eac6bd-11e3-4d6a-bee5-9fdf4d143db9",
   "metadata": {},
   "source": [
    "end=\" \" adds a space and prints the next thing in same line instead of next line"
   ]
  },
  {
   "cell_type": "markdown",
   "id": "9c464527-cdb2-44ba-8a2c-e6b7ced6b8f1",
   "metadata": {},
   "source": [
    "#### check if a number is prime"
   ]
  },
  {
   "cell_type": "code",
   "execution_count": 13,
   "id": "955c094e-edb0-443c-a5be-39f3ae469a88",
   "metadata": {},
   "outputs": [
    {
     "name": "stdin",
     "output_type": "stream",
     "text": [
      " 1\n"
     ]
    },
    {
     "name": "stdout",
     "output_type": "stream",
     "text": [
      "Not Prime\n"
     ]
    }
   ],
   "source": [
    "#using a for loop\n",
    "n=int(input())\n",
    "flag= True\n",
    "if n==1:\n",
    "    flag= False\n",
    "else:\n",
    "    for i in range (2, n, 1):\n",
    "        if n%2==0:\n",
    "            flag= False\n",
    "if flag== False:\n",
    "    print('Not Prime')\n",
    "else:\n",
    "    print('Prime')\n",
    "\n",
    "            \n"
   ]
  },
  {
   "cell_type": "code",
   "execution_count": 17,
   "id": "0f56a066-812b-42ad-9b53-87154e77ddd7",
   "metadata": {},
   "outputs": [
    {
     "name": "stdin",
     "output_type": "stream",
     "text": [
      " 10\n",
      " 4\n"
     ]
    },
    {
     "name": "stdout",
     "output_type": "stream",
     "text": [
      "-1\n"
     ]
    }
   ],
   "source": [
    "n=int(input())\n",
    "c=int(input())\n",
    "tot_sum=0\n",
    "product=1\n",
    "if c==1:\n",
    "    for i in range( 1, n+1, 1):\n",
    "        tot_sum=tot_sum+i\n",
    "    print(tot_sum)\n",
    "elif c==2:\n",
    "    for i in range (1, n+1, 1):\n",
    "        product=product*i\n",
    "    print(product)\n",
    "else:\n",
    "    print(-1)"
   ]
  },
  {
   "cell_type": "markdown",
   "id": "e163882d-28e8-425b-a978-e9476888a2af",
   "metadata": {},
   "source": [
    "**Break Keyword**"
   ]
  },
  {
   "cell_type": "markdown",
   "id": "b60e88f5-7e1c-49f1-8183-fa1885410c9d",
   "metadata": {},
   "source": [
    "it is another way of terminating a loop in case you've met a specific condition"
   ]
  },
  {
   "cell_type": "code",
   "execution_count": 30,
   "id": "6b39456b-679a-4461-bae0-48694fb5cf70",
   "metadata": {},
   "outputs": [
    {
     "name": "stdin",
     "output_type": "stream",
     "text": [
      " 11\n"
     ]
    },
    {
     "name": "stdout",
     "output_type": "stream",
     "text": [
      "Prime\n",
      "True\n"
     ]
    }
   ],
   "source": [
    "#using break for checking primality\n",
    "n=int(input())\n",
    "flag=True\n",
    "i=2\n",
    "if n==1:\n",
    "    flag= False\n",
    "else:\n",
    "    while(i<n):\n",
    "        if (n%i ==0 ):\n",
    "            flag= False\n",
    "            break\n",
    "        i=i+1\n",
    "\n",
    "if flag==True:\n",
    "    print(\"Prime\")\n",
    "else:\n",
    "    print(\"Not Prime\")\n",
    "\n",
    "print(flag)"
   ]
  },
  {
   "cell_type": "markdown",
   "id": "2b198229-0def-43bc-b937-f0da75c0da6b",
   "metadata": {},
   "source": [
    "the break keyword terminates only the loop just before it, not the other parent loops"
   ]
  },
  {
   "cell_type": "code",
   "execution_count": null,
   "id": "a418e21c-4b26-4189-a733-b65c049b99de",
   "metadata": {},
   "outputs": [],
   "source": [
    "n=int(input())\n",
    "sq=1\n",
    "for sq in range (1,n,1):\n",
    "    if(sq*sq>n):\n",
    "        print(sq-1)\n",
    "        break"
   ]
  },
  {
   "cell_type": "code",
   "execution_count": null,
   "id": "07ec46fe-9a85-4d9d-ac57-f67f709d6d6b",
   "metadata": {},
   "outputs": [],
   "source": [
    "print(hi)"
   ]
  },
  {
   "cell_type": "code",
   "execution_count": null,
   "id": "5842b3a0-c078-40e7-a750-6ac85746278b",
   "metadata": {},
   "outputs": [],
   "source": []
  }
 ],
 "metadata": {
  "kernelspec": {
   "display_name": "Python 3 (ipykernel)",
   "language": "python",
   "name": "python3"
  },
  "language_info": {
   "codemirror_mode": {
    "name": "ipython",
    "version": 3
   },
   "file_extension": ".py",
   "mimetype": "text/x-python",
   "name": "python",
   "nbconvert_exporter": "python",
   "pygments_lexer": "ipython3",
   "version": "3.12.7"
  }
 },
 "nbformat": 4,
 "nbformat_minor": 5
}
