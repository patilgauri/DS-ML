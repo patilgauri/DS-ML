{
 "cells": [
  {
   "cell_type": "markdown",
   "id": "99f91af6-5491-4147-8434-3a635deda75f",
   "metadata": {},
   "source": [
    "#### Else Keyword for loops"
   ]
  },
  {
   "cell_type": "code",
   "execution_count": 4,
   "id": "fc520f21-53ce-4070-b675-704745d7b4ea",
   "metadata": {},
   "outputs": [
    {
     "name": "stdout",
     "output_type": "stream",
     "text": [
      "1\n",
      "2\n",
      "3\n",
      "4\n",
      "5\n",
      "6\n",
      "7\n",
      "8\n",
      "9\n",
      "this will also be printed once at the end\n"
     ]
    }
   ],
   "source": [
    "for i in range(1,10):\n",
    "    print(i)\n",
    "else:\n",
    "    print('this will also be printed once at the end')"
   ]
  },
  {
   "cell_type": "markdown",
   "id": "af7aa8f9-d44c-4dc2-acfe-f02b5e856f1f",
   "metadata": {},
   "source": [
    "code inside else will not be executed if while/for loop is terminated by Break statement"
   ]
  },
  {
   "cell_type": "code",
   "execution_count": 6,
   "id": "ec2797f0-6097-4799-b92b-54314113dd03",
   "metadata": {},
   "outputs": [
    {
     "name": "stdout",
     "output_type": "stream",
     "text": [
      "1\n",
      "2\n",
      "3\n",
      "4\n"
     ]
    }
   ],
   "source": [
    "for i in range(1,10):\n",
    "    if i==5:\n",
    "        break\n",
    "    print(i)\n",
    "else:\n",
    "    print('this will also be printed once at the end')"
   ]
  },
  {
   "cell_type": "markdown",
   "id": "4f9bfa4c-9a1b-49ac-99ed-a5753aa7d247",
   "metadata": {},
   "source": [
    "**Primality check**"
   ]
  },
  {
   "cell_type": "code",
   "execution_count": 12,
   "id": "2b0f9d62-7cd0-4b05-9919-7ca24ef3c739",
   "metadata": {},
   "outputs": [
    {
     "name": "stdin",
     "output_type": "stream",
     "text": [
      " 10\n"
     ]
    }
   ],
   "source": [
    "n =int(input())\n",
    "d=2\n",
    "\n",
    "for d in range(2,n,1):\n",
    "    if n%d==0:\n",
    "        break\n",
    "else:\n",
    "    print('Prime')"
   ]
  },
  {
   "cell_type": "markdown",
   "id": "3e906806-d6b4-4305-8555-5177f7b13a77",
   "metadata": {},
   "source": [
    "**continue keyword**"
   ]
  },
  {
   "cell_type": "markdown",
   "id": "13cca9fd-55a7-4d51-be5e-cd6b1729696a",
   "metadata": {},
   "source": [
    "continue: skip an iteration "
   ]
  },
  {
   "cell_type": "markdown",
   "id": "3295a388-f916-4b53-a52d-f112ebdb2aaf",
   "metadata": {},
   "source": [
    "eg- you want to print a number from 1 to 100 except for 29"
   ]
  },
  {
   "cell_type": "code",
   "execution_count": 16,
   "id": "56ee7888-89b3-4c5a-bd98-764c1c3718a3",
   "metadata": {},
   "outputs": [
    {
     "name": "stdout",
     "output_type": "stream",
     "text": [
      "1 2 3 4 5 6 7 8 9 10 11 12 13 14 15 16 17 18 19 20 21 22 23 24 25 26 27 28 30 31 32 33 34 35 36 37 38 39 40 41 42 43 44 45 46 47 48 49 50 51 52 53 54 55 56 57 58 59 60 61 62 63 64 65 66 67 68 69 70 71 72 73 74 75 76 77 78 79 80 81 82 83 84 85 86 87 88 89 90 91 92 93 94 95 96 97 98 99 100 "
     ]
    }
   ],
   "source": [
    "for i in range (1, 101, 1):\n",
    "    if (i==29):\n",
    "        continue\n",
    "    print(i, end=\" \")"
   ]
  },
  {
   "cell_type": "markdown",
   "id": "3cd11743-6ba3-4bf9-a043-fd4decf68945",
   "metadata": {},
   "source": [
    "**print all even numbers from 0 to n twice but the multiples of 7 should only be printed once"
   ]
  },
  {
   "cell_type": "code",
   "execution_count": 3,
   "id": "8efcaafc-1a73-4baa-9fe7-b03cd64ba3df",
   "metadata": {},
   "outputs": [
    {
     "name": "stdin",
     "output_type": "stream",
     "text": [
      " 100\n"
     ]
    },
    {
     "name": "stdout",
     "output_type": "stream",
     "text": [
      "2 2 3 3 4 4 5 5 6 6 7 8 8 9 9 10 10 11 11 12 12 13 13 14 15 15 16 16 17 17 18 18 19 19 20 20 21 22 22 23 23 24 24 25 25 26 26 27 27 28 29 29 30 30 31 31 32 32 33 33 34 34 35 36 36 37 37 38 38 39 39 40 40 41 41 42 43 43 44 44 45 45 46 46 47 47 48 48 49 50 50 51 51 52 52 53 53 54 54 55 55 56 57 57 58 58 59 59 60 60 61 61 62 62 63 64 64 65 65 66 66 67 67 68 68 69 69 70 71 71 72 72 73 73 74 74 75 75 76 76 77 78 78 79 79 80 80 81 81 82 82 83 83 84 85 85 86 86 87 87 88 88 89 89 90 90 91 92 92 93 93 94 94 95 95 96 96 97 97 98 99 99 100 100 "
     ]
    }
   ],
   "source": [
    "n=int(input())\n",
    "for i in range (2, n+1, 1):\n",
    "    print(i, end=\" \")\n",
    "    if i%7==0:\n",
    "        continue\n",
    "    print(i, end=\" \")"
   ]
  },
  {
   "cell_type": "markdown",
   "id": "cd1d3676-b2a7-491b-89c5-817875c37ab9",
   "metadata": {},
   "source": [
    "**Pass Statement**"
   ]
  },
  {
   "cell_type": "markdown",
   "id": "c5ff8e2f-48f8-4195-9b8e-dc400a73106f",
   "metadata": {},
   "source": [
    "pass is a null statement in Python.\n",
    "\n",
    "It does nothing when executed — it’s simply a placeholder.\n",
    "\n",
    "It’s useful when the syntax requires a statement but you don’t want to write any code there (yet)."
   ]
  },
  {
   "cell_type": "code",
   "execution_count": 5,
   "id": "0504e748-2ea4-4298-ae4a-b9fffe6579e2",
   "metadata": {},
   "outputs": [
    {
     "name": "stdout",
     "output_type": "stream",
     "text": [
      "hey\n"
     ]
    }
   ],
   "source": [
    "i=3\n",
    "if i<7:\n",
    "    pass\n",
    "print(\"hey\")"
   ]
  },
  {
   "cell_type": "markdown",
   "id": "5f2e648d-3a99-4fbe-9d47-53d9c2f4b89f",
   "metadata": {},
   "source": [
    "**Decimal to Binary Conversion**"
   ]
  },
  {
   "cell_type": "code",
   "execution_count": 13,
   "id": "bbd05ebf-4c87-4d75-a9ad-f5c1ce644eff",
   "metadata": {},
   "outputs": [
    {
     "name": "stdin",
     "output_type": "stream",
     "text": [
      " 12\n"
     ]
    },
    {
     "name": "stdout",
     "output_type": "stream",
     "text": [
      "20\n"
     ]
    }
   ],
   "source": [
    "n=int(input())\n",
    "D2B=0\n",
    "while n!=0:\n",
    "    R=n%2\n",
    "    D2B= R*10+ D2B\n",
    "    n=n//2\n",
    "print(D2B)"
   ]
  },
  {
   "cell_type": "code",
   "execution_count": null,
   "id": "00d2fa03-d916-4039-9c5d-46cbcc464548",
   "metadata": {},
   "outputs": [],
   "source": []
  }
 ],
 "metadata": {
  "kernelspec": {
   "display_name": "Python 3 (ipykernel)",
   "language": "python",
   "name": "python3"
  },
  "language_info": {
   "codemirror_mode": {
    "name": "ipython",
    "version": 3
   },
   "file_extension": ".py",
   "mimetype": "text/x-python",
   "name": "python",
   "nbconvert_exporter": "python",
   "pygments_lexer": "ipython3",
   "version": "3.12.7"
  }
 },
 "nbformat": 4,
 "nbformat_minor": 5
}
