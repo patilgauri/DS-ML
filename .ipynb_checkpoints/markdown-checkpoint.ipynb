{
 "cells": [
  {
   "cell_type": "markdown",
   "id": "13507362-528f-4a87-8025-93a080ce86a1",
   "metadata": {},
   "source": [
    "## INTRO TO PYTHON"
   ]
  },
  {
   "cell_type": "markdown",
   "id": "67cd1b38-3395-457e-a651-2d092e1a2f0c",
   "metadata": {},
   "source": [
    "#### This is how you write notes in jupyter notebook.\n",
    "#### SELECT Markdown and then you can chose the size of your markdown by using. The no of #s range from 1-6 and affects the font size in descending order\n",
    "#### # h1\n",
    "#### ## h2\n",
    "#### ### h3\n",
    "#### #### h4\n",
    "#### ##### h5\n",
    "#### ###### h6\n",
    "\n",
    "#### The output will be:"
   ]
  },
  {
   "cell_type": "markdown",
   "id": "ce17a35d-60b9-4a79-92eb-611faffc250e",
   "metadata": {},
   "source": [
    "# h1\n",
    "## h2\n",
    "### h3\n",
    "#### h4\n",
    "##### h5\n",
    "###### h6\n"
   ]
  },
  {
   "cell_type": "code",
   "execution_count": null,
   "id": "cbc6d975-1743-46a0-9cfa-6b9caa49733b",
   "metadata": {},
   "outputs": [],
   "source": []
  }
 ],
 "metadata": {
  "kernelspec": {
   "display_name": "Python 3 (ipykernel)",
   "language": "python",
   "name": "python3"
  },
  "language_info": {
   "codemirror_mode": {
    "name": "ipython",
    "version": 3
   },
   "file_extension": ".py",
   "mimetype": "text/x-python",
   "name": "python",
   "nbconvert_exporter": "python",
   "pygments_lexer": "ipython3",
   "version": "3.12.4"
  }
 },
 "nbformat": 4,
 "nbformat_minor": 5
}
