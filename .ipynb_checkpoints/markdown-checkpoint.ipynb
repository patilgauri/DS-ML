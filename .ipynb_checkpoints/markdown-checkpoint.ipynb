{
 "cells": [
  {
   "cell_type": "markdown",
   "id": "13507362-528f-4a87-8025-93a080ce86a1",
   "metadata": {},
   "source": [
    "## INTRO TO PYTHON"
   ]
  },
  {
   "cell_type": "code",
   "execution_count": 3,
   "id": "50348bc2-f0f7-401f-a05e-37f32c5080fa",
   "metadata": {},
   "outputs": [
    {
     "ename": "SyntaxError",
     "evalue": "invalid syntax (1174346775.py, line 1)",
     "output_type": "error",
     "traceback": [
      "\u001b[1;36m  Cell \u001b[1;32mIn[3], line 1\u001b[1;36m\u001b[0m\n\u001b[1;33m    \"\"This is how you write notes in jupyter notebook.\"\"\u001b[0m\n\u001b[1;37m      ^\u001b[0m\n\u001b[1;31mSyntaxError\u001b[0m\u001b[1;31m:\u001b[0m invalid syntax\n"
     ]
    }
   ],
   "source": [
    "# This is how you write notes in jupyter notebook.\n",
    "# SELECT Markdown and then you can chose the size of your markdown by using. The no of #s range from 1-6 and affects the font size in descending order\n",
    "# # h1\n",
    "# ## h2\n",
    "# ### h3\n",
    "# #### h4\n",
    "# ##### h5\n",
    "# ###### h6\n"
   ]
  },
  {
   "cell_type": "markdown",
   "id": "ce17a35d-60b9-4a79-92eb-611faffc250e",
   "metadata": {},
   "source": [
    "# h1\n",
    "## h2\n",
    "### h3\n",
    "#### h4\n",
    "##### h5\n",
    "###### h6\n"
   ]
  },
  {
   "cell_type": "code",
   "execution_count": null,
   "id": "cbc6d975-1743-46a0-9cfa-6b9caa49733b",
   "metadata": {},
   "outputs": [],
   "source": []
  }
 ],
 "metadata": {
  "kernelspec": {
   "display_name": "Python 3 (ipykernel)",
   "language": "python",
   "name": "python3"
  },
  "language_info": {
   "codemirror_mode": {
    "name": "ipython",
    "version": 3
   },
   "file_extension": ".py",
   "mimetype": "text/x-python",
   "name": "python",
   "nbconvert_exporter": "python",
   "pygments_lexer": "ipython3",
   "version": "3.12.4"
  }
 },
 "nbformat": 4,
 "nbformat_minor": 5
}
