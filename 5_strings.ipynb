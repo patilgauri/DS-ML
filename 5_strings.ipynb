{
  "nbformat": 4,
  "nbformat_minor": 0,
  "metadata": {
    "colab": {
      "provenance": [],
      "authorship_tag": "ABX9TyP5F9/L5xD430erBf4MlpXo",
      "include_colab_link": true
    },
    "kernelspec": {
      "name": "python3",
      "display_name": "Python 3"
    },
    "language_info": {
      "name": "python"
    }
  },
  "cells": [
    {
      "cell_type": "markdown",
      "metadata": {
        "id": "view-in-github",
        "colab_type": "text"
      },
      "source": [
        "<a href=\"https://colab.research.google.com/github/patilgauri/DS-ML/blob/main/5_strings.ipynb\" target=\"_parent\"><img src=\"https://colab.research.google.com/assets/colab-badge.svg\" alt=\"Open In Colab\"/></a>"
      ]
    },
    {
      "cell_type": "markdown",
      "source": [
        "**Strings**"
      ],
      "metadata": {
        "id": "8Jdwtx6UhdYM"
      }
    },
    {
      "cell_type": "markdown",
      "source": [
        "It is a combination of characters"
      ],
      "metadata": {
        "id": "rgnF9cj6hhqS"
      }
    },
    {
      "cell_type": "markdown",
      "source": [
        "eg- My name is Gauri"
      ],
      "metadata": {
        "id": "baK5aufYh7sF"
      }
    },
    {
      "cell_type": "code",
      "source": [
        "a= \"abc def\"\n",
        "b= 'abc def'"
      ],
      "metadata": {
        "id": "IHMtT4DXiDfL"
      },
      "execution_count": null,
      "outputs": []
    },
    {
      "cell_type": "markdown",
      "source": [
        "string needs to be put in \" \" or ' '"
      ],
      "metadata": {
        "id": "wtO1ClaTiYTi"
      }
    },
    {
      "cell_type": "markdown",
      "source": [
        "Python does not have an character type. If you try to create a character in python it is basically going to be a single length string\n",
        "\n",
        "---\n",
        "\n"
      ],
      "metadata": {
        "id": "AcRkxM1oifs3"
      }
    },
    {
      "cell_type": "code",
      "source": [
        "type(a), type(b)"
      ],
      "metadata": {
        "colab": {
          "base_uri": "https://localhost:8080/"
        },
        "id": "_7kAzSAOjIXC",
        "outputId": "84487e10-ea26-4f8a-d375-6ed7a231b5cb"
      },
      "execution_count": null,
      "outputs": [
        {
          "output_type": "execute_result",
          "data": {
            "text/plain": [
              "(str, str)"
            ]
          },
          "metadata": {},
          "execution_count": 4
        }
      ]
    },
    {
      "cell_type": "code",
      "source": [
        "c='d'\n",
        "type(c)"
      ],
      "metadata": {
        "colab": {
          "base_uri": "https://localhost:8080/"
        },
        "id": "bPCbjpEdjR3N",
        "outputId": "5c23f330-f671-46b3-bfc5-b97f981f908a"
      },
      "execution_count": null,
      "outputs": [
        {
          "output_type": "execute_result",
          "data": {
            "text/plain": [
              "str"
            ]
          },
          "metadata": {},
          "execution_count": 5
        }
      ]
    },
    {
      "cell_type": "markdown",
      "source": [
        "Indexing in string starts with 0.\n"
      ],
      "metadata": {
        "id": "51XAleXUjgFX"
      }
    },
    {
      "cell_type": "markdown",
      "source": [
        "First element's index: 0 and Last element's index: n-1"
      ],
      "metadata": {
        "id": "L6fO_K2Ioadx"
      }
    },
    {
      "cell_type": "markdown",
      "source": [
        "Accessing elements of a string:"
      ],
      "metadata": {
        "id": "vxSxmthSogik"
      }
    },
    {
      "cell_type": "code",
      "source": [
        "a[0]"
      ],
      "metadata": {
        "colab": {
          "base_uri": "https://localhost:8080/",
          "height": 35
        },
        "id": "wZelIlmjjYPS",
        "outputId": "3e0e0933-d956-4a03-a4c9-0c5cd9b4cba6"
      },
      "execution_count": null,
      "outputs": [
        {
          "output_type": "execute_result",
          "data": {
            "text/plain": [
              "'a'"
            ],
            "application/vnd.google.colaboratory.intrinsic+json": {
              "type": "string"
            }
          },
          "metadata": {},
          "execution_count": 6
        }
      ]
    },
    {
      "cell_type": "code",
      "source": [
        "a[3]"
      ],
      "metadata": {
        "colab": {
          "base_uri": "https://localhost:8080/",
          "height": 35
        },
        "id": "2ADlExMEje_I",
        "outputId": "cb57046b-51ef-4608-bc26-80850d529a02"
      },
      "execution_count": null,
      "outputs": [
        {
          "output_type": "execute_result",
          "data": {
            "text/plain": [
              "' '"
            ],
            "application/vnd.google.colaboratory.intrinsic+json": {
              "type": "string"
            }
          },
          "metadata": {},
          "execution_count": 8
        }
      ]
    },
    {
      "cell_type": "code",
      "source": [
        "type(a[0])\n"
      ],
      "metadata": {
        "colab": {
          "base_uri": "https://localhost:8080/"
        },
        "id": "-S-6Tm0spBRI",
        "outputId": "968d78fe-1b82-4e46-ec0e-1c77c8f39e3f"
      },
      "execution_count": null,
      "outputs": [
        {
          "output_type": "execute_result",
          "data": {
            "text/plain": [
              "str"
            ]
          },
          "metadata": {},
          "execution_count": 11
        }
      ]
    },
    {
      "cell_type": "code",
      "source": [
        "print(a)"
      ],
      "metadata": {
        "colab": {
          "base_uri": "https://localhost:8080/"
        },
        "id": "w9nzM-crpGRp",
        "outputId": "74c5f846-f7c7-4cb5-d4d0-68a8bf273a59"
      },
      "execution_count": null,
      "outputs": [
        {
          "output_type": "stream",
          "name": "stdout",
          "text": [
            "abc def\n"
          ]
        }
      ]
    },
    {
      "cell_type": "markdown",
      "source": [
        "How to iterate over all the characters of string"
      ],
      "metadata": {
        "id": "uNgtLhRjpxAX"
      }
    },
    {
      "cell_type": "code",
      "source": [
        "len(a)"
      ],
      "metadata": {
        "colab": {
          "base_uri": "https://localhost:8080/"
        },
        "id": "KQjLYpo6qCU1",
        "outputId": "49ef2fad-d486-45ef-bfc1-8495e5b6f4a0"
      },
      "execution_count": null,
      "outputs": [
        {
          "output_type": "execute_result",
          "data": {
            "text/plain": [
              "7"
            ]
          },
          "metadata": {},
          "execution_count": 15
        }
      ]
    },
    {
      "cell_type": "code",
      "source": [
        "for i in range (0, len(a)):\n",
        "  print(a[i], end=\" \")"
      ],
      "metadata": {
        "colab": {
          "base_uri": "https://localhost:8080/"
        },
        "id": "QUYPYZqwqWCw",
        "outputId": "b8b4799b-ecb3-4c8c-e61c-f2f35731791f"
      },
      "execution_count": null,
      "outputs": [
        {
          "output_type": "stream",
          "name": "stdout",
          "text": [
            "a b c   d e f "
          ]
        }
      ]
    },
    {
      "cell_type": "markdown",
      "source": [
        "Another way of iterating over a string:"
      ],
      "metadata": {
        "id": "qHF6Ui95qgLD"
      }
    },
    {
      "cell_type": "code",
      "source": [
        "for i in a: # it means i is first a, then b, then c.....\n",
        "  print(i) #you won't get the indices, you will get the characters"
      ],
      "metadata": {
        "colab": {
          "base_uri": "https://localhost:8080/"
        },
        "id": "lG78UQy-qrx_",
        "outputId": "0f4da394-0f5e-4d17-fb2a-35dacb510e06"
      },
      "execution_count": null,
      "outputs": [
        {
          "output_type": "stream",
          "name": "stdout",
          "text": [
            "a\n",
            "b\n",
            "c\n",
            " \n",
            "d\n",
            "e\n",
            "f\n"
          ]
        }
      ]
    },
    {
      "cell_type": "markdown",
      "source": [
        "**strings are immutable**"
      ],
      "metadata": {
        "id": "DmY6FHZ7q298"
      }
    },
    {
      "cell_type": "markdown",
      "source": [
        "You cannot change a string once it has been created"
      ],
      "metadata": {
        "id": "xWjDC-SdrGu6"
      }
    },
    {
      "cell_type": "code",
      "source": [
        "a[3]=s #trying to change the character of string a at index 3 is not possible, will get error"
      ],
      "metadata": {
        "colab": {
          "base_uri": "https://localhost:8080/",
          "height": 158
        },
        "id": "po5FsQh6rKCK",
        "outputId": "04ace60a-cba0-413c-c618-49a1bad5c158"
      },
      "execution_count": null,
      "outputs": [
        {
          "output_type": "error",
          "ename": "NameError",
          "evalue": "name 's' is not defined",
          "traceback": [
            "\u001b[0;31m---------------------------------------------------------------------------\u001b[0m",
            "\u001b[0;31mNameError\u001b[0m                                 Traceback (most recent call last)",
            "\u001b[0;32m/tmp/ipython-input-619646583.py\u001b[0m in \u001b[0;36m<cell line: 0>\u001b[0;34m()\u001b[0m\n\u001b[0;32m----> 1\u001b[0;31m \u001b[0ma\u001b[0m\u001b[0;34m[\u001b[0m\u001b[0;36m3\u001b[0m\u001b[0;34m]\u001b[0m\u001b[0;34m=\u001b[0m\u001b[0ms\u001b[0m \u001b[0;31m#trying to change the character of string a at index 3 is not possible, will get error\u001b[0m\u001b[0;34m\u001b[0m\u001b[0;34m\u001b[0m\u001b[0m\n\u001b[0m",
            "\u001b[0;31mNameError\u001b[0m: name 's' is not defined"
          ]
        }
      ]
    },
    {
      "cell_type": "code",
      "source": [
        "print(a)"
      ],
      "metadata": {
        "colab": {
          "base_uri": "https://localhost:8080/"
        },
        "id": "iD6n4tNmrPqa",
        "outputId": "c41a81f9-21eb-47fa-c4af-feaa3c72f74f"
      },
      "execution_count": null,
      "outputs": [
        {
          "output_type": "stream",
          "name": "stdout",
          "text": [
            "abc def\n"
          ]
        }
      ]
    },
    {
      "cell_type": "code",
      "source": [
        "a= \"mno pqr\"\n"
      ],
      "metadata": {
        "id": "xgaa2-zTrZ_8"
      },
      "execution_count": null,
      "outputs": []
    },
    {
      "cell_type": "code",
      "source": [
        "#this is possible as now a will be poibnting to a new string.\n",
        "#Because variable a is not immutable, you can change where it points.\n",
        "#But you cannot change the values of a string once created"
      ],
      "metadata": {
        "id": "a3wOXdGMrtDW"
      },
      "execution_count": null,
      "outputs": []
    },
    {
      "cell_type": "markdown",
      "source": [
        "**Strings Inbuilt Function**"
      ],
      "metadata": {
        "id": "EhfH-DnCsAJK"
      }
    },
    {
      "cell_type": "markdown",
      "source": [
        "Sometimes we need to include ' or \" in our string"
      ],
      "metadata": {
        "id": "3T2pfgudsRNG"
      }
    },
    {
      "cell_type": "code",
      "source": [
        "a= ' Hello this is Gauri's world'\n",
        "#python will assume that the string is ending at the ' after Gauri"
      ],
      "metadata": {
        "colab": {
          "base_uri": "https://localhost:8080/",
          "height": 106
        },
        "id": "zof0JZ8IsY1O",
        "outputId": "0b6c8f00-8721-4209-f103-1041a0712f38"
      },
      "execution_count": null,
      "outputs": [
        {
          "output_type": "error",
          "ename": "SyntaxError",
          "evalue": "unterminated string literal (detected at line 1) (ipython-input-416263678.py, line 1)",
          "traceback": [
            "\u001b[0;36m  File \u001b[0;32m\"/tmp/ipython-input-416263678.py\"\u001b[0;36m, line \u001b[0;32m1\u001b[0m\n\u001b[0;31m    a= ' Hello this is Gauri's world'\u001b[0m\n\u001b[0m                                    ^\u001b[0m\n\u001b[0;31mSyntaxError\u001b[0m\u001b[0;31m:\u001b[0m unterminated string literal (detected at line 1)\n"
          ]
        }
      ]
    },
    {
      "cell_type": "markdown",
      "source": [
        "So if you want to use a '' in your string, you can use a \" \" outside"
      ],
      "metadata": {
        "id": "SXZuXpubsq1C"
      }
    },
    {
      "cell_type": "code",
      "source": [
        "a= \" Hello this is Gauri's world \"\n",
        "print(a)"
      ],
      "metadata": {
        "colab": {
          "base_uri": "https://localhost:8080/"
        },
        "id": "u-j7FEObs5Wq",
        "outputId": "6e111cb1-0f15-4ff8-8eb1-cc7abb753403"
      },
      "execution_count": null,
      "outputs": [
        {
          "output_type": "stream",
          "name": "stdout",
          "text": [
            " Hello this is Gauri's world \n"
          ]
        }
      ]
    },
    {
      "cell_type": "markdown",
      "source": [
        "similarly"
      ],
      "metadata": {
        "id": "JjzeacbAs-wq"
      }
    },
    {
      "cell_type": "code",
      "source": [
        "a='I am saying \"Hello\" '\n",
        "print(a)"
      ],
      "metadata": {
        "colab": {
          "base_uri": "https://localhost:8080/"
        },
        "id": "fADZaDiN10SV",
        "outputId": "86fff1fc-f564-48e2-8215-a11043c489f3"
      },
      "execution_count": null,
      "outputs": [
        {
          "output_type": "stream",
          "name": "stdout",
          "text": [
            "I am saying \"Hello\" \n"
          ]
        }
      ]
    },
    {
      "cell_type": "markdown",
      "source": [
        "If you want to use both ' ' and \" \" inside your string:"
      ],
      "metadata": {
        "id": "4I7hYbSh16iy"
      }
    },
    {
      "cell_type": "markdown",
      "source": [
        "For that we use escaping with \\"
      ],
      "metadata": {
        "id": "CMNw5IJ92Cx_"
      }
    },
    {
      "cell_type": "code",
      "source": [
        "a= \" Gauri\\'s Robot says \\\"Hello\\\" \"\n",
        "print(a)"
      ],
      "metadata": {
        "colab": {
          "base_uri": "https://localhost:8080/"
        },
        "id": "c2CHDWnj2I-P",
        "outputId": "dbbafc51-2b90-4b7f-c2ba-8e69223a816e"
      },
      "execution_count": null,
      "outputs": [
        {
          "output_type": "stream",
          "name": "stdout",
          "text": [
            " Gauri's Robot says \"Hello\" \n"
          ]
        }
      ]
    },
    {
      "cell_type": "markdown",
      "source": [
        "**String Concatenation**"
      ],
      "metadata": {
        "id": "CbIUJ3PM2acz"
      }
    },
    {
      "cell_type": "code",
      "source": [
        "a='Hello! '\n",
        "b='Good Morning'\n",
        "a+b"
      ],
      "metadata": {
        "colab": {
          "base_uri": "https://localhost:8080/",
          "height": 35
        },
        "id": "y8lZ9Jic2qEH",
        "outputId": "38dc7f81-63d0-4a1c-f222-f28a3369c8da"
      },
      "execution_count": null,
      "outputs": [
        {
          "output_type": "execute_result",
          "data": {
            "text/plain": [
              "'Hello! Good Morning'"
            ],
            "application/vnd.google.colaboratory.intrinsic+json": {
              "type": "string"
            }
          },
          "metadata": {},
          "execution_count": 44
        }
      ]
    },
    {
      "cell_type": "code",
      "source": [
        "a= a+b\n",
        "a"
      ],
      "metadata": {
        "colab": {
          "base_uri": "https://localhost:8080/",
          "height": 35
        },
        "id": "lla2wTj92yOD",
        "outputId": "8d62ace7-5c6e-41ce-a2c6-5d0195f1feff"
      },
      "execution_count": null,
      "outputs": [
        {
          "output_type": "execute_result",
          "data": {
            "text/plain": [
              "'Hello! Good Morning'"
            ],
            "application/vnd.google.colaboratory.intrinsic+json": {
              "type": "string"
            }
          },
          "metadata": {},
          "execution_count": 41
        }
      ]
    },
    {
      "cell_type": "markdown",
      "source": [
        "**String Comparison**"
      ],
      "metadata": {
        "id": "95De1m4S22Hg"
      }
    },
    {
      "cell_type": "code",
      "source": [
        "a==b"
      ],
      "metadata": {
        "colab": {
          "base_uri": "https://localhost:8080/"
        },
        "id": "CTS4KNNN3KyQ",
        "outputId": "5cb073f5-86c4-4406-c0b9-2faf4e7166ee"
      },
      "execution_count": null,
      "outputs": [
        {
          "output_type": "execute_result",
          "data": {
            "text/plain": [
              "False"
            ]
          },
          "metadata": {},
          "execution_count": 42
        }
      ]
    },
    {
      "cell_type": "code",
      "source": [
        "a>b #compares them lexicographically"
      ],
      "metadata": {
        "colab": {
          "base_uri": "https://localhost:8080/"
        },
        "id": "nTHA21PG3RK4",
        "outputId": "7dc0313b-df1d-4693-8437-1b406210ee8b"
      },
      "execution_count": null,
      "outputs": [
        {
          "output_type": "execute_result",
          "data": {
            "text/plain": [
              "True"
            ]
          },
          "metadata": {},
          "execution_count": 45
        }
      ]
    },
    {
      "cell_type": "markdown",
      "source": [
        "**Split Function**"
      ],
      "metadata": {
        "id": "CGYv_Tr-3nTW"
      }
    },
    {
      "cell_type": "code",
      "source": [
        "#spit\n",
        "a=\"This is a string\"\n",
        "a.split() #t reurns a list/array which are the parts of the orginal string"
      ],
      "metadata": {
        "colab": {
          "base_uri": "https://localhost:8080/"
        },
        "id": "a_YveEch3-PH",
        "outputId": "f28e6010-a8e4-4def-c73e-59ddf030792b"
      },
      "execution_count": null,
      "outputs": [
        {
          "output_type": "execute_result",
          "data": {
            "text/plain": [
              "['This', 'is', 'a', 'string']"
            ]
          },
          "metadata": {},
          "execution_count": 51
        }
      ]
    },
    {
      "cell_type": "markdown",
      "source": [
        "By default split happens on whitespace"
      ],
      "metadata": {
        "id": "VtHbfpaM4F0e"
      }
    },
    {
      "cell_type": "code",
      "source": [
        "a.split(\"is\") #splits the string around is."
      ],
      "metadata": {
        "colab": {
          "base_uri": "https://localhost:8080/"
        },
        "id": "D7r23fCB4hDu",
        "outputId": "fb6fda5e-27ac-4cc8-d498-3729332bd4b2"
      },
      "execution_count": null,
      "outputs": [
        {
          "output_type": "execute_result",
          "data": {
            "text/plain": [
              "['Th', ' ', ' a string']"
            ]
          },
          "metadata": {},
          "execution_count": 52
        }
      ]
    },
    {
      "cell_type": "code",
      "source": [
        "#whatever you want the strig to split around, just pass that into the split() function|"
      ],
      "metadata": {
        "id": "6N9vra404ZCC"
      },
      "execution_count": null,
      "outputs": []
    },
    {
      "cell_type": "markdown",
      "source": [
        "**Replace( ) Function**"
      ],
      "metadata": {
        "id": "tW6NPLZx406c"
      }
    },
    {
      "cell_type": "markdown",
      "source": [
        "replace( what you want to replace, with what you want you to replace it)"
      ],
      "metadata": {
        "id": "k9mtfJPS45Pd"
      }
    },
    {
      "cell_type": "code",
      "source": [
        "a.replace(\"is\",\"are\")"
      ],
      "metadata": {
        "colab": {
          "base_uri": "https://localhost:8080/",
          "height": 35
        },
        "id": "6jbiUu3j5JU4",
        "outputId": "71adee66-f497-4d06-d84d-b41ebe2baf7b"
      },
      "execution_count": null,
      "outputs": [
        {
          "output_type": "execute_result",
          "data": {
            "text/plain": [
              "'Thare are a string'"
            ],
            "application/vnd.google.colaboratory.intrinsic+json": {
              "type": "string"
            }
          },
          "metadata": {},
          "execution_count": 54
        }
      ]
    },
    {
      "cell_type": "code",
      "source": [
        "a\n",
        "#It does not change the orginal string, it returns a new string instead"
      ],
      "metadata": {
        "colab": {
          "base_uri": "https://localhost:8080/",
          "height": 35
        },
        "id": "RqA6K5iG5Mh6",
        "outputId": "ec8e0bae-36b7-4a49-95b0-4bebecd156a2"
      },
      "execution_count": null,
      "outputs": [
        {
          "output_type": "execute_result",
          "data": {
            "text/plain": [
              "'This is a string'"
            ],
            "application/vnd.google.colaboratory.intrinsic+json": {
              "type": "string"
            }
          },
          "metadata": {},
          "execution_count": 56
        }
      ]
    },
    {
      "cell_type": "markdown",
      "source": [
        "**Find( ) Function**"
      ],
      "metadata": {
        "id": "qzcRcpot5d3o"
      }
    },
    {
      "cell_type": "code",
      "source": [
        "a.find('is') #gives the index as output"
      ],
      "metadata": {
        "colab": {
          "base_uri": "https://localhost:8080/"
        },
        "id": "in6M39yJ5hVY",
        "outputId": "afb59a41-26f7-47c6-dc99-7e1f8e0b95ed"
      },
      "execution_count": null,
      "outputs": [
        {
          "output_type": "execute_result",
          "data": {
            "text/plain": [
              "2"
            ]
          },
          "metadata": {},
          "execution_count": 97
        }
      ]
    },
    {
      "cell_type": "code",
      "source": [
        "a.find(\"isff\") #returns -1 if it can't find anything"
      ],
      "metadata": {
        "colab": {
          "base_uri": "https://localhost:8080/"
        },
        "id": "1k276WiA5qxn",
        "outputId": "fd3ed3ef-5db1-415d-9cdd-100d972ca161"
      },
      "execution_count": null,
      "outputs": [
        {
          "output_type": "execute_result",
          "data": {
            "text/plain": [
              "-1"
            ]
          },
          "metadata": {},
          "execution_count": 60
        }
      ]
    },
    {
      "cell_type": "markdown",
      "source": [
        "**Lower() Function**"
      ],
      "metadata": {
        "id": "lozX97iU5tyi"
      }
    },
    {
      "cell_type": "code",
      "source": [
        "a.lower()"
      ],
      "metadata": {
        "colab": {
          "base_uri": "https://localhost:8080/",
          "height": 35
        },
        "id": "lMib0uVN55Sk",
        "outputId": "f79c1b0c-d66a-436c-c2fa-c0d2a5ed2b3e"
      },
      "execution_count": null,
      "outputs": [
        {
          "output_type": "execute_result",
          "data": {
            "text/plain": [
              "'this is a string'"
            ],
            "application/vnd.google.colaboratory.intrinsic+json": {
              "type": "string"
            }
          },
          "metadata": {},
          "execution_count": 61
        }
      ]
    },
    {
      "cell_type": "markdown",
      "source": [
        "**Upper() Function**"
      ],
      "metadata": {
        "id": "G19WZRKd56nM"
      }
    },
    {
      "cell_type": "code",
      "source": [
        "a.upper()"
      ],
      "metadata": {
        "colab": {
          "base_uri": "https://localhost:8080/",
          "height": 35
        },
        "id": "dClMsaXd5_Zy",
        "outputId": "39d6231b-b107-4872-99b9-b887edec566e"
      },
      "execution_count": null,
      "outputs": [
        {
          "output_type": "execute_result",
          "data": {
            "text/plain": [
              "'THIS IS A STRING'"
            ],
            "application/vnd.google.colaboratory.intrinsic+json": {
              "type": "string"
            }
          },
          "metadata": {},
          "execution_count": 62
        }
      ]
    },
    {
      "cell_type": "markdown",
      "source": [
        "**islower(), isupper()**"
      ],
      "metadata": {
        "id": "DdKnoyWt6Av-"
      }
    },
    {
      "cell_type": "markdown",
      "source": [
        " checks if all cased characters in the string are lowercase/uppercase"
      ],
      "metadata": {
        "id": "TuYZzgdk6cQ5"
      }
    },
    {
      "cell_type": "code",
      "source": [
        "a.islower()"
      ],
      "metadata": {
        "colab": {
          "base_uri": "https://localhost:8080/"
        },
        "id": "t_DE7MpF6O90",
        "outputId": "4da6864d-a679-47b4-acae-343fd867ce69"
      },
      "execution_count": null,
      "outputs": [
        {
          "output_type": "execute_result",
          "data": {
            "text/plain": [
              "False"
            ]
          },
          "metadata": {},
          "execution_count": 63
        }
      ]
    },
    {
      "cell_type": "code",
      "source": [
        "a.isupper()"
      ],
      "metadata": {
        "colab": {
          "base_uri": "https://localhost:8080/"
        },
        "id": "OgeEC1Em6QwE",
        "outputId": "d75bd6f9-5581-433b-fd72-682fa3e2cfe7"
      },
      "execution_count": null,
      "outputs": [
        {
          "output_type": "execute_result",
          "data": {
            "text/plain": [
              "False"
            ]
          },
          "metadata": {},
          "execution_count": 64
        }
      ]
    },
    {
      "cell_type": "markdown",
      "source": [
        "**isalpha()**"
      ],
      "metadata": {
        "id": "swRppnQW6TTV"
      }
    },
    {
      "cell_type": "markdown",
      "source": [
        "check if all characters in a string are alphabetic"
      ],
      "metadata": {
        "id": "ucfcDqnR6u8M"
      }
    },
    {
      "cell_type": "code",
      "source": [
        "a.isalpha()"
      ],
      "metadata": {
        "colab": {
          "base_uri": "https://localhost:8080/"
        },
        "id": "_sabQQjO6ktr",
        "outputId": "f421e1cf-280b-4b59-81d6-d1623533ba86"
      },
      "execution_count": null,
      "outputs": [
        {
          "output_type": "execute_result",
          "data": {
            "text/plain": [
              "False"
            ]
          },
          "metadata": {},
          "execution_count": 65
        }
      ]
    },
    {
      "cell_type": "code",
      "source": [
        "#false because a also has whitespaces in between|"
      ],
      "metadata": {
        "id": "SUKXZAts6tv5"
      },
      "execution_count": null,
      "outputs": []
    },
    {
      "cell_type": "markdown",
      "source": [
        "**startswith(), endswith() Functions**"
      ],
      "metadata": {
        "id": "ajfbk8PP6z07"
      }
    },
    {
      "cell_type": "code",
      "source": [
        "a.startswith('This')"
      ],
      "metadata": {
        "colab": {
          "base_uri": "https://localhost:8080/"
        },
        "id": "2PF3asgc69Wu",
        "outputId": "ed70fc92-1523-49c6-8793-d70392e5571c"
      },
      "execution_count": null,
      "outputs": [
        {
          "output_type": "execute_result",
          "data": {
            "text/plain": [
              "True"
            ]
          },
          "metadata": {},
          "execution_count": 69
        }
      ]
    },
    {
      "cell_type": "code",
      "source": [
        "a.startswith('Th')"
      ],
      "metadata": {
        "colab": {
          "base_uri": "https://localhost:8080/"
        },
        "id": "KZpIyGFM7Cyi",
        "outputId": "069037fd-ce31-4a23-870e-1262277d184c"
      },
      "execution_count": null,
      "outputs": [
        {
          "output_type": "execute_result",
          "data": {
            "text/plain": [
              "True"
            ]
          },
          "metadata": {},
          "execution_count": 70
        }
      ]
    },
    {
      "cell_type": "code",
      "source": [
        "a.startswith('abc')"
      ],
      "metadata": {
        "colab": {
          "base_uri": "https://localhost:8080/"
        },
        "id": "-M_jO4p37Mvo",
        "outputId": "58c84bd0-f04f-4bc9-ecdd-939e068b237c"
      },
      "execution_count": null,
      "outputs": [
        {
          "output_type": "execute_result",
          "data": {
            "text/plain": [
              "False"
            ]
          },
          "metadata": {},
          "execution_count": 71
        }
      ]
    },
    {
      "cell_type": "code",
      "source": [
        "a.endswith('string')"
      ],
      "metadata": {
        "colab": {
          "base_uri": "https://localhost:8080/"
        },
        "id": "wDKHhr1C7WC7",
        "outputId": "d0ae6293-3163-4240-c5f0-0e43ec9d9748"
      },
      "execution_count": null,
      "outputs": [
        {
          "output_type": "execute_result",
          "data": {
            "text/plain": [
              "True"
            ]
          },
          "metadata": {},
          "execution_count": 73
        }
      ]
    },
    {
      "cell_type": "code",
      "source": [
        "s= 'abcd'\n",
        "print(s+12)#this will give error"
      ],
      "metadata": {
        "colab": {
          "base_uri": "https://localhost:8080/",
          "height": 158
        },
        "id": "Jk6dVC1O7bl5",
        "outputId": "20255f48-9f87-403f-c561-d7725aaf49f3"
      },
      "execution_count": null,
      "outputs": [
        {
          "output_type": "error",
          "ename": "TypeError",
          "evalue": "can only concatenate str (not \"int\") to str",
          "traceback": [
            "\u001b[0;31m---------------------------------------------------------------------------\u001b[0m",
            "\u001b[0;31mTypeError\u001b[0m                                 Traceback (most recent call last)",
            "\u001b[0;32m/tmp/ipython-input-3611516376.py\u001b[0m in \u001b[0;36m<cell line: 0>\u001b[0;34m()\u001b[0m\n\u001b[1;32m      1\u001b[0m \u001b[0ms\u001b[0m\u001b[0;34m=\u001b[0m \u001b[0;34m'abcd'\u001b[0m\u001b[0;34m\u001b[0m\u001b[0;34m\u001b[0m\u001b[0m\n\u001b[0;32m----> 2\u001b[0;31m \u001b[0mprint\u001b[0m\u001b[0;34m(\u001b[0m\u001b[0ms\u001b[0m\u001b[0;34m+\u001b[0m\u001b[0;36m12\u001b[0m\u001b[0;34m)\u001b[0m\u001b[0;31m#this will give error\u001b[0m\u001b[0;34m\u001b[0m\u001b[0;34m\u001b[0m\u001b[0m\n\u001b[0m",
            "\u001b[0;31mTypeError\u001b[0m: can only concatenate str (not \"int\") to str"
          ]
        }
      ]
    },
    {
      "cell_type": "code",
      "source": [
        "print( s + str(12))"
      ],
      "metadata": {
        "colab": {
          "base_uri": "https://localhost:8080/"
        },
        "id": "k5iqRb2k8F5a",
        "outputId": "f8b6c198-72be-4c67-bb69-e020a9a7138c"
      },
      "execution_count": null,
      "outputs": [
        {
          "output_type": "stream",
          "name": "stdout",
          "text": [
            "abcd12\n"
          ]
        }
      ]
    },
    {
      "cell_type": "markdown",
      "source": [
        "**String Slicing**"
      ],
      "metadata": {
        "id": "myiql_W-8ifx"
      }
    },
    {
      "cell_type": "markdown",
      "source": [
        "slicing is used to find substrings within a string"
      ],
      "metadata": {
        "id": "ogMevoNz8qNT"
      }
    },
    {
      "cell_type": "code",
      "source": [
        "# a[ si:ei]\n",
        "# this means i want everything from si to ei-1\n",
        "# si, ei start and end index\n",
        "# a[3:9] means i want everything from index 3 till 8"
      ],
      "metadata": {
        "id": "-KaMUaOb810R"
      },
      "execution_count": null,
      "outputs": []
    },
    {
      "cell_type": "code",
      "source": [
        "a='This is Slicing'"
      ],
      "metadata": {
        "id": "WpgLkc9y9mFy"
      },
      "execution_count": null,
      "outputs": []
    },
    {
      "cell_type": "code",
      "source": [
        "a[2:5]"
      ],
      "metadata": {
        "colab": {
          "base_uri": "https://localhost:8080/",
          "height": 35
        },
        "id": "_1zv2Wdp90aD",
        "outputId": "8ce103fe-4529-4e86-8f1c-c1dc3f7178a8"
      },
      "execution_count": null,
      "outputs": [
        {
          "output_type": "execute_result",
          "data": {
            "text/plain": [
              "'is '"
            ],
            "application/vnd.google.colaboratory.intrinsic+json": {
              "type": "string"
            }
          },
          "metadata": {},
          "execution_count": 84
        }
      ]
    },
    {
      "cell_type": "code",
      "source": [
        "a[5:10]"
      ],
      "metadata": {
        "colab": {
          "base_uri": "https://localhost:8080/",
          "height": 35
        },
        "id": "1A4wqFSl9-Kj",
        "outputId": "d1121e77-099c-403a-a16e-35d509c3e954"
      },
      "execution_count": null,
      "outputs": [
        {
          "output_type": "execute_result",
          "data": {
            "text/plain": [
              "'is Sl'"
            ],
            "application/vnd.google.colaboratory.intrinsic+json": {
              "type": "string"
            }
          },
          "metadata": {},
          "execution_count": 85
        }
      ]
    },
    {
      "cell_type": "code",
      "source": [
        "a[2: ] #by default end index is end of string"
      ],
      "metadata": {
        "colab": {
          "base_uri": "https://localhost:8080/",
          "height": 35
        },
        "id": "bP_9PEkT-Alx",
        "outputId": "57011213-4a2e-4154-8f7e-028571db948b"
      },
      "execution_count": null,
      "outputs": [
        {
          "output_type": "execute_result",
          "data": {
            "text/plain": [
              "'is is Slicing'"
            ],
            "application/vnd.google.colaboratory.intrinsic+json": {
              "type": "string"
            }
          },
          "metadata": {},
          "execution_count": 86
        }
      ]
    },
    {
      "cell_type": "code",
      "source": [
        "a[ :10] #by default start index is start of the string"
      ],
      "metadata": {
        "colab": {
          "base_uri": "https://localhost:8080/",
          "height": 35
        },
        "id": "kbOXqA7q-bdB",
        "outputId": "8d85304e-a8d1-4c1c-a2f7-8324c5202115"
      },
      "execution_count": null,
      "outputs": [
        {
          "output_type": "execute_result",
          "data": {
            "text/plain": [
              "'This is Sl'"
            ],
            "application/vnd.google.colaboratory.intrinsic+json": {
              "type": "string"
            }
          },
          "metadata": {},
          "execution_count": 87
        }
      ]
    },
    {
      "cell_type": "markdown",
      "source": [
        "**stepping in slicing**"
      ],
      "metadata": {
        "id": "gjGy3ATt-jXa"
      }
    },
    {
      "cell_type": "code",
      "source": [
        "#A step value of 1 means every character is included (no skipping).\n",
        "#A step value of 2 means every second character is included, effectively skipping one character between each selected character.\n",
        "#A step value of 3 means every third character is included, skipping two characters between each selected character."
      ],
      "metadata": {
        "id": "jY0oK_Pg_2v1"
      },
      "execution_count": null,
      "outputs": []
    },
    {
      "cell_type": "code",
      "source": [
        "a[2:10] #by default step is 1, means no skipping"
      ],
      "metadata": {
        "colab": {
          "base_uri": "https://localhost:8080/",
          "height": 35
        },
        "id": "_pluPTa0_jvt",
        "outputId": "86780edd-82e1-43cb-951f-6f709fa3e71d"
      },
      "execution_count": null,
      "outputs": [
        {
          "output_type": "execute_result",
          "data": {
            "text/plain": [
              "'is is Sl'"
            ],
            "application/vnd.google.colaboratory.intrinsic+json": {
              "type": "string"
            }
          },
          "metadata": {},
          "execution_count": 91
        }
      ]
    },
    {
      "cell_type": "code",
      "source": [
        "a[2:10:2]\n",
        "# [start, stop, step]"
      ],
      "metadata": {
        "id": "0NFkH9BV-3df",
        "colab": {
          "base_uri": "https://localhost:8080/",
          "height": 35
        },
        "outputId": "478e9841-273a-40ec-e1a4-e134582c3075"
      },
      "execution_count": null,
      "outputs": [
        {
          "output_type": "execute_result",
          "data": {
            "text/plain": [
              "'i sS'"
            ],
            "application/vnd.google.colaboratory.intrinsic+json": {
              "type": "string"
            }
          },
          "metadata": {},
          "execution_count": 92
        }
      ]
    },
    {
      "cell_type": "markdown",
      "source": [
        "A negative step value allows for slicing in reverse order. For example, [::-1] reverses the entire string, while [::-2] reverses the string and includes every second character."
      ],
      "metadata": {
        "id": "oFWeQfG6_ZlM"
      }
    },
    {
      "cell_type": "code",
      "source": [
        "a[10:2:-1] # goes from 10 till 3"
      ],
      "metadata": {
        "colab": {
          "base_uri": "https://localhost:8080/",
          "height": 35
        },
        "id": "3f1Bc0XDAOZC",
        "outputId": "d8a6c0fa-a298-4f50-a483-4d41ac256486"
      },
      "execution_count": null,
      "outputs": [
        {
          "output_type": "execute_result",
          "data": {
            "text/plain": [
              "'ilS si s'"
            ],
            "application/vnd.google.colaboratory.intrinsic+json": {
              "type": "string"
            }
          },
          "metadata": {},
          "execution_count": 95
        }
      ]
    },
    {
      "cell_type": "markdown",
      "source": [
        "replace all the occurences of a particular character with other character"
      ],
      "metadata": {
        "id": "JPC6xNSPAWxe"
      }
    },
    {
      "cell_type": "code",
      "source": [
        "# to replace all the x with y\n",
        "s=input( ) #python takes input() as a string by default\n",
        "a='x'\n",
        "b='y'\n",
        "position= s.find(a)\n",
        "if position!=-1:         #if p=-1 means 'x' is not present in your string\n",
        "  ans=s[ :position] + b + s[position+1:]\n",
        "ans"
      ],
      "metadata": {
        "colab": {
          "base_uri": "https://localhost:8080/",
          "height": 52
        },
        "id": "ssPxwEEeBVjV",
        "outputId": "6d781973-00ef-467c-d33a-0365a530c3cf"
      },
      "execution_count": null,
      "outputs": [
        {
          "name": "stdout",
          "output_type": "stream",
          "text": [
            "abcxdefxabc\n"
          ]
        },
        {
          "output_type": "execute_result",
          "data": {
            "text/plain": [
              "'abcydefxabc'"
            ],
            "application/vnd.google.colaboratory.intrinsic+json": {
              "type": "string"
            }
          },
          "metadata": {},
          "execution_count": 101
        }
      ]
    },
    {
      "cell_type": "code",
      "source": [
        "#but this code only replaced the first occurence of the code"
      ],
      "metadata": {
        "id": "apwUO-o5DRlW"
      },
      "execution_count": null,
      "outputs": []
    },
    {
      "cell_type": "markdown",
      "source": [
        "To replace all the occurences:"
      ],
      "metadata": {
        "id": "zT0J3-iIDlA0"
      }
    },
    {
      "cell_type": "code",
      "source": [
        "s=input( )\n",
        "a='x'\n",
        "b='y'\n",
        "ans=s\n",
        "for i in range( 0, len(s)):    #for i in s is not used as it will give the indexes and not the characters\n",
        "  if(s[i]==a):\n",
        "    ans= s[:i] + b + s[i+1:]\n",
        "# the problem with this code is suppose there is a second occurence, then during that the string we will be using in that will be the orginal one making the first occurence of x remain as x only\n",
        "ans\n"
      ],
      "metadata": {
        "colab": {
          "base_uri": "https://localhost:8080/",
          "height": 52
        },
        "id": "1c8SLXI2DxMW",
        "outputId": "a5acbc7c-982c-483c-c71c-dba09680ccad"
      },
      "execution_count": null,
      "outputs": [
        {
          "name": "stdout",
          "output_type": "stream",
          "text": [
            "abxabxab\n"
          ]
        },
        {
          "output_type": "execute_result",
          "data": {
            "text/plain": [
              "'abxabyab'"
            ],
            "application/vnd.google.colaboratory.intrinsic+json": {
              "type": "string"
            }
          },
          "metadata": {},
          "execution_count": 104
        }
      ]
    },
    {
      "cell_type": "markdown",
      "source": [
        "to fix that"
      ],
      "metadata": {
        "id": "0f1mXdKnFK5I"
      }
    },
    {
      "cell_type": "code",
      "source": [
        "s=input( )\n",
        "a='x'\n",
        "b='y'\n",
        "ans=s\n",
        "for i in range( 0, len(s)):\n",
        "  if(ans[i]==a):\n",
        "    ans= ans[:i] + b + ans[i+1:] #replace s with ans so the upcoming occurences will have the updated string along with them\n",
        "ans\n"
      ],
      "metadata": {
        "colab": {
          "base_uri": "https://localhost:8080/",
          "height": 52
        },
        "id": "TkcdzP2NFW08",
        "outputId": "10a68b56-32ae-4b77-cfd3-7856d1e08e6b"
      },
      "execution_count": null,
      "outputs": [
        {
          "name": "stdout",
          "output_type": "stream",
          "text": [
            "abxabxab\n"
          ]
        },
        {
          "output_type": "execute_result",
          "data": {
            "text/plain": [
              "'abyabyab'"
            ],
            "application/vnd.google.colaboratory.intrinsic+json": {
              "type": "string"
            }
          },
          "metadata": {},
          "execution_count": 105
        }
      ]
    },
    {
      "cell_type": "markdown",
      "source": [
        "Negative Indexes"
      ],
      "metadata": {
        "id": "f-uMWn01IirP"
      }
    },
    {
      "cell_type": "code",
      "source": [
        "str1 = 'hello'\n",
        "print(str1[-1:])\n",
        "# -1 refers to the last character of the string, which is 'o'.\n",
        "\n",
        "# The slice [-1:] means \"start from index -1 (the last character) and go to the end of the string.\""
      ],
      "metadata": {
        "id": "cpd92iSzFpNu"
      },
      "execution_count": null,
      "outputs": []
    },
    {
      "cell_type": "code",
      "source": [
        "s = \"abcdefghi\"\n",
        "print(s[-3:-1])\n"
      ],
      "metadata": {
        "colab": {
          "base_uri": "https://localhost:8080/"
        },
        "id": "GXBShFPuINVu",
        "outputId": "de1943c8-c12b-4a66-94ee-2a87960a93ec"
      },
      "execution_count": null,
      "outputs": [
        {
          "output_type": "stream",
          "name": "stdout",
          "text": [
            "gh\n"
          ]
        }
      ]
    },
    {
      "cell_type": "code",
      "source": [
        "# abcdefghi\n",
        "# respective indexes: -9 -8 -7 -6 -5 -4 -3 -2 -1"
      ],
      "metadata": {
        "id": "MfL9kc_AIdQm"
      },
      "execution_count": null,
      "outputs": []
    },
    {
      "cell_type": "markdown",
      "source": [
        "**To check if a string is a palindrome or not**"
      ],
      "metadata": {
        "id": "wFPPT6rkIwvd"
      }
    },
    {
      "cell_type": "code",
      "source": [
        "s =input( )\n",
        "left=0\n",
        "right =len(s)-1\n",
        "\n",
        "flag=True\n",
        "\n",
        "while(left<right):\n",
        "    if s[left]!=s[right]:\n",
        "        flag= False\n",
        "        break\n",
        "    left=left+1\n",
        "    right=right-1\n",
        "\n",
        "if flag==True:\n",
        "    print('true')\n",
        "else:\n",
        "    print('false')\n"
      ],
      "metadata": {
        "colab": {
          "base_uri": "https://localhost:8080/"
        },
        "id": "tDphDWcrQwiv",
        "outputId": "7d74a8e4-439c-406c-a5ea-278e300eb007"
      },
      "execution_count": null,
      "outputs": [
        {
          "output_type": "stream",
          "name": "stdout",
          "text": [
            "malayalam\n",
            "true\n"
          ]
        }
      ]
    },
    {
      "cell_type": "markdown",
      "source": [
        "**Print all substrings of a string**"
      ],
      "metadata": {
        "id": "V32oFHxTaBbr"
      }
    },
    {
      "cell_type": "code",
      "source": [
        "s = input()\n",
        "length= len(s)\n",
        "\n",
        "for left in range (0,length,1):\n",
        "  right=left+1\n",
        "  while(right<=length):\n",
        "    print(s[left:right])\n",
        "    right+=1\n",
        ""
      ],
      "metadata": {
        "id": "NcodMga2Qw_a",
        "colab": {
          "base_uri": "https://localhost:8080/"
        },
        "outputId": "a223ee20-aefb-4b9e-ce62-400e1f0c0445"
      },
      "execution_count": 121,
      "outputs": [
        {
          "output_type": "stream",
          "name": "stdout",
          "text": [
            "abcd\n",
            "a\n",
            "ab\n",
            "abc\n",
            "abcd\n",
            "b\n",
            "bc\n",
            "bcd\n",
            "c\n",
            "cd\n",
            "d\n"
          ]
        }
      ]
    },
    {
      "cell_type": "code",
      "source": [],
      "metadata": {
        "id": "AA9RtvGBX_LJ"
      },
      "execution_count": null,
      "outputs": []
    }
  ]
}